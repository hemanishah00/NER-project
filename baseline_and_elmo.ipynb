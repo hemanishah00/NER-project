{
  "nbformat": 4,
  "nbformat_minor": 0,
  "metadata": {
    "colab": {
      "name": "baseline_and_elmo.ipynb",
      "provenance": [],
      "collapsed_sections": [],
      "toc_visible": true
    },
    "kernelspec": {
      "name": "python3",
      "display_name": "Python 3"
    },
    "language_info": {
      "name": "python"
    },
    "accelerator": "GPU",
    "gpuClass": "standard"
  },
  "cells": [
    {
      "cell_type": "markdown",
      "source": [
        "# Baseline and ELMO Notebook:\n",
        "team members: Ajinkya, Hemani, Rohit, Shibani</br>"
      ],
      "metadata": {
        "id": "NBAEdaYJgESE"
      }
    },
    {
      "cell_type": "code",
      "execution_count": 1,
      "metadata": {
        "id": "oGnUzbZdsUWQ"
      },
      "outputs": [],
      "source": [
        "# importing libraries\n",
        "import pandas as pd\n",
        "import numpy as np\n",
        "import matplotlib.pyplot as plt\n",
        "import tensorflow as tf\n",
        "import statistics as st\n",
        "from sklearn.model_selection import train_test_split\n",
        "from tensorflow.keras.callbacks import ModelCheckpoint, EarlyStopping\n",
        "%matplotlib inline"
      ]
    },
    {
      "cell_type": "code",
      "source": [
        "# mounting drive\n",
        "from google.colab import drive\n",
        "drive.mount('/content/gdrive')"
      ],
      "metadata": {
        "colab": {
          "base_uri": "https://localhost:8080/"
        },
        "id": "HZObWozEY7LV",
        "outputId": "7e60c828-2480-4ea9-e9f7-7479d3851569"
      },
      "execution_count": 2,
      "outputs": [
        {
          "output_type": "stream",
          "name": "stdout",
          "text": [
            "Mounted at /content/gdrive\n"
          ]
        }
      ]
    },
    {
      "cell_type": "code",
      "source": [
        "# reading data\n",
        "data = pd.read_json('/content/gdrive/MyDrive/AI-3/Project/fgrezes:WIESP2022-NER/WIESP2022-NER-TRAINING.jsonl', lines=True)\n",
        "tags = pd.read_json('/content/gdrive/MyDrive/AI-3/Project/fgrezes:WIESP2022-NER/ner_tags.json', lines=True)"
      ],
      "metadata": {
        "id": "Hb_ZbA57F3ux"
      },
      "execution_count": 3,
      "outputs": []
    },
    {
      "cell_type": "code",
      "source": [
        "# structuring tags\n",
        "tags = tags.T.reset_index()\n",
        "tags.head(10)"
      ],
      "metadata": {
        "colab": {
          "base_uri": "https://localhost:8080/",
          "height": 363
        },
        "id": "5w7FwNKungex",
        "outputId": "357ef9e0-e36d-40bf-e2a4-f78b53c28c03"
      },
      "execution_count": 4,
      "outputs": [
        {
          "output_type": "execute_result",
          "data": {
            "text/plain": [
              "                      index  0\n",
              "0                 B-Archive  0\n",
              "1         B-CelestialObject  1\n",
              "2   B-CelestialObjectRegion  2\n",
              "3         B-CelestialRegion  3\n",
              "4                B-Citation  4\n",
              "5           B-Collaboration  5\n",
              "6       B-ComputingFacility  6\n",
              "7                B-Database  7\n",
              "8                 B-Dataset  8\n",
              "9  B-EntityOfFutureInterest  9"
            ],
            "text/html": [
              "\n",
              "  <div id=\"df-676746f0-74dc-4528-aa86-5e877662c3ac\">\n",
              "    <div class=\"colab-df-container\">\n",
              "      <div>\n",
              "<style scoped>\n",
              "    .dataframe tbody tr th:only-of-type {\n",
              "        vertical-align: middle;\n",
              "    }\n",
              "\n",
              "    .dataframe tbody tr th {\n",
              "        vertical-align: top;\n",
              "    }\n",
              "\n",
              "    .dataframe thead th {\n",
              "        text-align: right;\n",
              "    }\n",
              "</style>\n",
              "<table border=\"1\" class=\"dataframe\">\n",
              "  <thead>\n",
              "    <tr style=\"text-align: right;\">\n",
              "      <th></th>\n",
              "      <th>index</th>\n",
              "      <th>0</th>\n",
              "    </tr>\n",
              "  </thead>\n",
              "  <tbody>\n",
              "    <tr>\n",
              "      <th>0</th>\n",
              "      <td>B-Archive</td>\n",
              "      <td>0</td>\n",
              "    </tr>\n",
              "    <tr>\n",
              "      <th>1</th>\n",
              "      <td>B-CelestialObject</td>\n",
              "      <td>1</td>\n",
              "    </tr>\n",
              "    <tr>\n",
              "      <th>2</th>\n",
              "      <td>B-CelestialObjectRegion</td>\n",
              "      <td>2</td>\n",
              "    </tr>\n",
              "    <tr>\n",
              "      <th>3</th>\n",
              "      <td>B-CelestialRegion</td>\n",
              "      <td>3</td>\n",
              "    </tr>\n",
              "    <tr>\n",
              "      <th>4</th>\n",
              "      <td>B-Citation</td>\n",
              "      <td>4</td>\n",
              "    </tr>\n",
              "    <tr>\n",
              "      <th>5</th>\n",
              "      <td>B-Collaboration</td>\n",
              "      <td>5</td>\n",
              "    </tr>\n",
              "    <tr>\n",
              "      <th>6</th>\n",
              "      <td>B-ComputingFacility</td>\n",
              "      <td>6</td>\n",
              "    </tr>\n",
              "    <tr>\n",
              "      <th>7</th>\n",
              "      <td>B-Database</td>\n",
              "      <td>7</td>\n",
              "    </tr>\n",
              "    <tr>\n",
              "      <th>8</th>\n",
              "      <td>B-Dataset</td>\n",
              "      <td>8</td>\n",
              "    </tr>\n",
              "    <tr>\n",
              "      <th>9</th>\n",
              "      <td>B-EntityOfFutureInterest</td>\n",
              "      <td>9</td>\n",
              "    </tr>\n",
              "  </tbody>\n",
              "</table>\n",
              "</div>\n",
              "      <button class=\"colab-df-convert\" onclick=\"convertToInteractive('df-676746f0-74dc-4528-aa86-5e877662c3ac')\"\n",
              "              title=\"Convert this dataframe to an interactive table.\"\n",
              "              style=\"display:none;\">\n",
              "        \n",
              "  <svg xmlns=\"http://www.w3.org/2000/svg\" height=\"24px\"viewBox=\"0 0 24 24\"\n",
              "       width=\"24px\">\n",
              "    <path d=\"M0 0h24v24H0V0z\" fill=\"none\"/>\n",
              "    <path d=\"M18.56 5.44l.94 2.06.94-2.06 2.06-.94-2.06-.94-.94-2.06-.94 2.06-2.06.94zm-11 1L8.5 8.5l.94-2.06 2.06-.94-2.06-.94L8.5 2.5l-.94 2.06-2.06.94zm10 10l.94 2.06.94-2.06 2.06-.94-2.06-.94-.94-2.06-.94 2.06-2.06.94z\"/><path d=\"M17.41 7.96l-1.37-1.37c-.4-.4-.92-.59-1.43-.59-.52 0-1.04.2-1.43.59L10.3 9.45l-7.72 7.72c-.78.78-.78 2.05 0 2.83L4 21.41c.39.39.9.59 1.41.59.51 0 1.02-.2 1.41-.59l7.78-7.78 2.81-2.81c.8-.78.8-2.07 0-2.86zM5.41 20L4 18.59l7.72-7.72 1.47 1.35L5.41 20z\"/>\n",
              "  </svg>\n",
              "      </button>\n",
              "      \n",
              "  <style>\n",
              "    .colab-df-container {\n",
              "      display:flex;\n",
              "      flex-wrap:wrap;\n",
              "      gap: 12px;\n",
              "    }\n",
              "\n",
              "    .colab-df-convert {\n",
              "      background-color: #E8F0FE;\n",
              "      border: none;\n",
              "      border-radius: 50%;\n",
              "      cursor: pointer;\n",
              "      display: none;\n",
              "      fill: #1967D2;\n",
              "      height: 32px;\n",
              "      padding: 0 0 0 0;\n",
              "      width: 32px;\n",
              "    }\n",
              "\n",
              "    .colab-df-convert:hover {\n",
              "      background-color: #E2EBFA;\n",
              "      box-shadow: 0px 1px 2px rgba(60, 64, 67, 0.3), 0px 1px 3px 1px rgba(60, 64, 67, 0.15);\n",
              "      fill: #174EA6;\n",
              "    }\n",
              "\n",
              "    [theme=dark] .colab-df-convert {\n",
              "      background-color: #3B4455;\n",
              "      fill: #D2E3FC;\n",
              "    }\n",
              "\n",
              "    [theme=dark] .colab-df-convert:hover {\n",
              "      background-color: #434B5C;\n",
              "      box-shadow: 0px 1px 3px 1px rgba(0, 0, 0, 0.15);\n",
              "      filter: drop-shadow(0px 1px 2px rgba(0, 0, 0, 0.3));\n",
              "      fill: #FFFFFF;\n",
              "    }\n",
              "  </style>\n",
              "\n",
              "      <script>\n",
              "        const buttonEl =\n",
              "          document.querySelector('#df-676746f0-74dc-4528-aa86-5e877662c3ac button.colab-df-convert');\n",
              "        buttonEl.style.display =\n",
              "          google.colab.kernel.accessAllowed ? 'block' : 'none';\n",
              "\n",
              "        async function convertToInteractive(key) {\n",
              "          const element = document.querySelector('#df-676746f0-74dc-4528-aa86-5e877662c3ac');\n",
              "          const dataTable =\n",
              "            await google.colab.kernel.invokeFunction('convertToInteractive',\n",
              "                                                     [key], {});\n",
              "          if (!dataTable) return;\n",
              "\n",
              "          const docLinkHtml = 'Like what you see? Visit the ' +\n",
              "            '<a target=\"_blank\" href=https://colab.research.google.com/notebooks/data_table.ipynb>data table notebook</a>'\n",
              "            + ' to learn more about interactive tables.';\n",
              "          element.innerHTML = '';\n",
              "          dataTable['output_type'] = 'display_data';\n",
              "          await google.colab.output.renderOutput(dataTable, element);\n",
              "          const docLink = document.createElement('div');\n",
              "          docLink.innerHTML = docLinkHtml;\n",
              "          element.appendChild(docLink);\n",
              "        }\n",
              "      </script>\n",
              "    </div>\n",
              "  </div>\n",
              "  "
            ]
          },
          "metadata": {},
          "execution_count": 4
        }
      ]
    },
    {
      "cell_type": "code",
      "source": [
        "# splitting the data\n",
        "train_data, test_data = train_test_split(data, train_size=0.8, random_state=1)"
      ],
      "metadata": {
        "id": "76I7rZhZ_zi7"
      },
      "execution_count": 5,
      "outputs": []
    },
    {
      "cell_type": "code",
      "source": [
        "# seeing the train data\n",
        "train_data.head()"
      ],
      "metadata": {
        "colab": {
          "base_uri": "https://localhost:8080/",
          "height": 528
        },
        "id": "ipR5g03fpnec",
        "outputId": "033108da-d1cb-4a86-cbba-6e301c7b3b20"
      },
      "execution_count": 6,
      "outputs": [
        {
          "output_type": "execute_result",
          "data": {
            "text/plain": [
              "                  bibcode  label_studio_id  \\\n",
              "1092  2021ApJ...913..130H              609   \n",
              "19    2017ApJ...834...89D              484   \n",
              "573   2017ApJ...834...15H              493   \n",
              "948   2016A&A...586A.135P              236   \n",
              "1424  2018ApJ...864L...9Y              405   \n",
              "\n",
              "                                                ner_ids  \\\n",
              "1092  [62, 62, 62, 62, 62, 62, 62, 62, 62, 62, 62, 6...   \n",
              "19    [62, 62, 62, 62, 62, 21, 62, 21, 62, 21, 62, 1...   \n",
              "573   [62, 62, 22, 53, 62, 22, 53, 53, 62, 62, 62, 6...   \n",
              "948   [62, 62, 62, 62, 62, 62, 62, 62, 62, 62, 62, 6...   \n",
              "1424  [62, 62, 62, 62, 62, 62, 62, 62, 62, 24, 55, 6...   \n",
              "\n",
              "                                               ner_tags          section  \\\n",
              "1092  [O, O, O, O, O, O, O, O, O, O, O, O, O, O, O, ...         fulltext   \n",
              "19    [O, O, O, O, O, B-Organization, O, B-Organizat...  acknowledgments   \n",
              "573   [O, O, B-Person, I-Person, O, B-Person, I-Pers...  acknowledgments   \n",
              "948   [O, O, O, O, O, O, O, O, O, O, O, O, B-Telesco...         fulltext   \n",
              "1424  [O, O, O, O, O, O, O, O, O, B-Software, I-Soft...         fulltext   \n",
              "\n",
              "                                                 tokens  \\\n",
              "1092  [simulation, results, revealed, a, variation, ...   \n",
              "19    [This, work, was, supported, by, INFN, and, AS...   \n",
              "573   [We, thank, Jo, Bovy, and, Timothy, D., Brandt...   \n",
              "948   [magnetic, field, and, the, brightness, ridges...   \n",
              "1424  [May, 2, (chosen, arbitrarily), and, are, inte...   \n",
              "\n",
              "                                    unique_id  \n",
              "1092         fulltext_609_2021ApJ...913..130H  \n",
              "19    acknowledgments_484_2017ApJ...834...89D  \n",
              "573   acknowledgments_493_2017ApJ...834...15H  \n",
              "948          fulltext_236_2016A&A...586A.135P  \n",
              "1424         fulltext_405_2018ApJ...864L...9Y  "
            ],
            "text/html": [
              "\n",
              "  <div id=\"df-eed4bbf3-a9bb-46c0-89e3-b882cd6bae97\">\n",
              "    <div class=\"colab-df-container\">\n",
              "      <div>\n",
              "<style scoped>\n",
              "    .dataframe tbody tr th:only-of-type {\n",
              "        vertical-align: middle;\n",
              "    }\n",
              "\n",
              "    .dataframe tbody tr th {\n",
              "        vertical-align: top;\n",
              "    }\n",
              "\n",
              "    .dataframe thead th {\n",
              "        text-align: right;\n",
              "    }\n",
              "</style>\n",
              "<table border=\"1\" class=\"dataframe\">\n",
              "  <thead>\n",
              "    <tr style=\"text-align: right;\">\n",
              "      <th></th>\n",
              "      <th>bibcode</th>\n",
              "      <th>label_studio_id</th>\n",
              "      <th>ner_ids</th>\n",
              "      <th>ner_tags</th>\n",
              "      <th>section</th>\n",
              "      <th>tokens</th>\n",
              "      <th>unique_id</th>\n",
              "    </tr>\n",
              "  </thead>\n",
              "  <tbody>\n",
              "    <tr>\n",
              "      <th>1092</th>\n",
              "      <td>2021ApJ...913..130H</td>\n",
              "      <td>609</td>\n",
              "      <td>[62, 62, 62, 62, 62, 62, 62, 62, 62, 62, 62, 6...</td>\n",
              "      <td>[O, O, O, O, O, O, O, O, O, O, O, O, O, O, O, ...</td>\n",
              "      <td>fulltext</td>\n",
              "      <td>[simulation, results, revealed, a, variation, ...</td>\n",
              "      <td>fulltext_609_2021ApJ...913..130H</td>\n",
              "    </tr>\n",
              "    <tr>\n",
              "      <th>19</th>\n",
              "      <td>2017ApJ...834...89D</td>\n",
              "      <td>484</td>\n",
              "      <td>[62, 62, 62, 62, 62, 21, 62, 21, 62, 21, 62, 1...</td>\n",
              "      <td>[O, O, O, O, O, B-Organization, O, B-Organizat...</td>\n",
              "      <td>acknowledgments</td>\n",
              "      <td>[This, work, was, supported, by, INFN, and, AS...</td>\n",
              "      <td>acknowledgments_484_2017ApJ...834...89D</td>\n",
              "    </tr>\n",
              "    <tr>\n",
              "      <th>573</th>\n",
              "      <td>2017ApJ...834...15H</td>\n",
              "      <td>493</td>\n",
              "      <td>[62, 62, 22, 53, 62, 22, 53, 53, 62, 62, 62, 6...</td>\n",
              "      <td>[O, O, B-Person, I-Person, O, B-Person, I-Pers...</td>\n",
              "      <td>acknowledgments</td>\n",
              "      <td>[We, thank, Jo, Bovy, and, Timothy, D., Brandt...</td>\n",
              "      <td>acknowledgments_493_2017ApJ...834...15H</td>\n",
              "    </tr>\n",
              "    <tr>\n",
              "      <th>948</th>\n",
              "      <td>2016A&amp;A...586A.135P</td>\n",
              "      <td>236</td>\n",
              "      <td>[62, 62, 62, 62, 62, 62, 62, 62, 62, 62, 62, 6...</td>\n",
              "      <td>[O, O, O, O, O, O, O, O, O, O, O, O, B-Telesco...</td>\n",
              "      <td>fulltext</td>\n",
              "      <td>[magnetic, field, and, the, brightness, ridges...</td>\n",
              "      <td>fulltext_236_2016A&amp;A...586A.135P</td>\n",
              "    </tr>\n",
              "    <tr>\n",
              "      <th>1424</th>\n",
              "      <td>2018ApJ...864L...9Y</td>\n",
              "      <td>405</td>\n",
              "      <td>[62, 62, 62, 62, 62, 62, 62, 62, 62, 24, 55, 6...</td>\n",
              "      <td>[O, O, O, O, O, O, O, O, O, B-Software, I-Soft...</td>\n",
              "      <td>fulltext</td>\n",
              "      <td>[May, 2, (chosen, arbitrarily), and, are, inte...</td>\n",
              "      <td>fulltext_405_2018ApJ...864L...9Y</td>\n",
              "    </tr>\n",
              "  </tbody>\n",
              "</table>\n",
              "</div>\n",
              "      <button class=\"colab-df-convert\" onclick=\"convertToInteractive('df-eed4bbf3-a9bb-46c0-89e3-b882cd6bae97')\"\n",
              "              title=\"Convert this dataframe to an interactive table.\"\n",
              "              style=\"display:none;\">\n",
              "        \n",
              "  <svg xmlns=\"http://www.w3.org/2000/svg\" height=\"24px\"viewBox=\"0 0 24 24\"\n",
              "       width=\"24px\">\n",
              "    <path d=\"M0 0h24v24H0V0z\" fill=\"none\"/>\n",
              "    <path d=\"M18.56 5.44l.94 2.06.94-2.06 2.06-.94-2.06-.94-.94-2.06-.94 2.06-2.06.94zm-11 1L8.5 8.5l.94-2.06 2.06-.94-2.06-.94L8.5 2.5l-.94 2.06-2.06.94zm10 10l.94 2.06.94-2.06 2.06-.94-2.06-.94-.94-2.06-.94 2.06-2.06.94z\"/><path d=\"M17.41 7.96l-1.37-1.37c-.4-.4-.92-.59-1.43-.59-.52 0-1.04.2-1.43.59L10.3 9.45l-7.72 7.72c-.78.78-.78 2.05 0 2.83L4 21.41c.39.39.9.59 1.41.59.51 0 1.02-.2 1.41-.59l7.78-7.78 2.81-2.81c.8-.78.8-2.07 0-2.86zM5.41 20L4 18.59l7.72-7.72 1.47 1.35L5.41 20z\"/>\n",
              "  </svg>\n",
              "      </button>\n",
              "      \n",
              "  <style>\n",
              "    .colab-df-container {\n",
              "      display:flex;\n",
              "      flex-wrap:wrap;\n",
              "      gap: 12px;\n",
              "    }\n",
              "\n",
              "    .colab-df-convert {\n",
              "      background-color: #E8F0FE;\n",
              "      border: none;\n",
              "      border-radius: 50%;\n",
              "      cursor: pointer;\n",
              "      display: none;\n",
              "      fill: #1967D2;\n",
              "      height: 32px;\n",
              "      padding: 0 0 0 0;\n",
              "      width: 32px;\n",
              "    }\n",
              "\n",
              "    .colab-df-convert:hover {\n",
              "      background-color: #E2EBFA;\n",
              "      box-shadow: 0px 1px 2px rgba(60, 64, 67, 0.3), 0px 1px 3px 1px rgba(60, 64, 67, 0.15);\n",
              "      fill: #174EA6;\n",
              "    }\n",
              "\n",
              "    [theme=dark] .colab-df-convert {\n",
              "      background-color: #3B4455;\n",
              "      fill: #D2E3FC;\n",
              "    }\n",
              "\n",
              "    [theme=dark] .colab-df-convert:hover {\n",
              "      background-color: #434B5C;\n",
              "      box-shadow: 0px 1px 3px 1px rgba(0, 0, 0, 0.15);\n",
              "      filter: drop-shadow(0px 1px 2px rgba(0, 0, 0, 0.3));\n",
              "      fill: #FFFFFF;\n",
              "    }\n",
              "  </style>\n",
              "\n",
              "      <script>\n",
              "        const buttonEl =\n",
              "          document.querySelector('#df-eed4bbf3-a9bb-46c0-89e3-b882cd6bae97 button.colab-df-convert');\n",
              "        buttonEl.style.display =\n",
              "          google.colab.kernel.accessAllowed ? 'block' : 'none';\n",
              "\n",
              "        async function convertToInteractive(key) {\n",
              "          const element = document.querySelector('#df-eed4bbf3-a9bb-46c0-89e3-b882cd6bae97');\n",
              "          const dataTable =\n",
              "            await google.colab.kernel.invokeFunction('convertToInteractive',\n",
              "                                                     [key], {});\n",
              "          if (!dataTable) return;\n",
              "\n",
              "          const docLinkHtml = 'Like what you see? Visit the ' +\n",
              "            '<a target=\"_blank\" href=https://colab.research.google.com/notebooks/data_table.ipynb>data table notebook</a>'\n",
              "            + ' to learn more about interactive tables.';\n",
              "          element.innerHTML = '';\n",
              "          dataTable['output_type'] = 'display_data';\n",
              "          await google.colab.output.renderOutput(dataTable, element);\n",
              "          const docLink = document.createElement('div');\n",
              "          docLink.innerHTML = docLinkHtml;\n",
              "          element.appendChild(docLink);\n",
              "        }\n",
              "      </script>\n",
              "    </div>\n",
              "  </div>\n",
              "  "
            ]
          },
          "metadata": {},
          "execution_count": 6
        }
      ]
    },
    {
      "cell_type": "code",
      "source": [
        "length_of_tokens = [len(i) for i in train_data.tokens]\n",
        "print(\"The length of tokens can range from : \",min(length_of_tokens),\" to \",max(length_of_tokens))\n",
        "print(\"The mean of length of tokens is : \", round(np.mean(length_of_tokens),4))\n",
        "print(\"The median of length of tokens is : \", round(np.median(length_of_tokens),4))\n",
        "print(\"The mode of length of tokens is : \", round(st.mode(length_of_tokens),4))\n",
        "print(\"The number of tokens in training data\",len(train_data.tokens))"
      ],
      "metadata": {
        "colab": {
          "base_uri": "https://localhost:8080/"
        },
        "id": "vkXvWF1TuvSf",
        "outputId": "7a9bfc98-4017-486a-ebf4-5c272929586f"
      },
      "execution_count": 7,
      "outputs": [
        {
          "output_type": "stream",
          "name": "stdout",
          "text": [
            "The length of tokens can range from :  7  to  795\n",
            "The mean of length of tokens is :  324.1049\n",
            "The median of length of tokens is :  463.5\n",
            "The mode of length of tokens is :  518\n",
            "The number of tokens in training data 1402\n"
          ]
        }
      ]
    },
    {
      "cell_type": "code",
      "source": [
        "# Having a quick look at a record in  the train data\n",
        "print(train_data.loc[19])\n",
        "\" \".join(train_data.tokens[19])"
      ],
      "metadata": {
        "colab": {
          "base_uri": "https://localhost:8080/",
          "height": 261
        },
        "id": "7eAhIYbpBM-v",
        "outputId": "ede4fb34-f31d-4ad4-c090-bfdf2ad5eeb8"
      },
      "execution_count": 8,
      "outputs": [
        {
          "output_type": "stream",
          "name": "stdout",
          "text": [
            "bibcode                                          2017ApJ...834...89D\n",
            "label_studio_id                                                  484\n",
            "ner_ids            [62, 62, 62, 62, 62, 21, 62, 21, 62, 21, 62, 1...\n",
            "ner_tags           [O, O, O, O, O, B-Organization, O, B-Organizat...\n",
            "section                                              acknowledgments\n",
            "tokens             [This, work, was, supported, by, INFN, and, AS...\n",
            "unique_id                    acknowledgments_484_2017ApJ...834...89D\n",
            "Name: 19, dtype: object\n"
          ]
        },
        {
          "output_type": "execute_result",
          "data": {
            "text/plain": [
              "'This work was supported by INFN and ASI under ASI-INFN Agreement No.2014-037-R.0. M.S.P. and E.E.V. acknowledge partial financial support from the the South African National Research Foundation (NRF) under their Research Cooperation Programme. E.E.V. thanks the Space Science Division of the South African Space Agency (SANSA) for partial financial support during his PhD studies. R.M. acknowledges partial financial support from The Italian Space Agency (ASI) under the program “Programma PAMELA—attivita” scientifica di analisi dati in fase E.” The authors would like to thank Dr. M. Boezio for the useful discussion and helpful suggestions. Part of this work is based on archival data provided by the ASI Science Data Center (ASDC).'"
            ],
            "application/vnd.google.colaboratory.intrinsic+json": {
              "type": "string"
            }
          },
          "metadata": {},
          "execution_count": 8
        }
      ]
    },
    {
      "cell_type": "code",
      "source": [
        "# having a quick look at the test data\n",
        "test_data.head()"
      ],
      "metadata": {
        "colab": {
          "base_uri": "https://localhost:8080/",
          "height": 704
        },
        "id": "7-QwvPepo6U3",
        "outputId": "774d1942-72dd-45a0-dd3b-504b467f03cd"
      },
      "execution_count": 9,
      "outputs": [
        {
          "output_type": "execute_result",
          "data": {
            "text/plain": [
              "                  bibcode  label_studio_id  \\\n",
              "1085  2020MNRAS.499.1140A              671   \n",
              "968   2017MNRAS.466.1733B             1390   \n",
              "47    2016ApJ...831..201L             1656   \n",
              "1519  2015MNRAS.452.1779S              257   \n",
              "535   2016MNRAS.456.1723L              928   \n",
              "\n",
              "                                                ner_ids  \\\n",
              "1085  [62, 62, 62, 62, 62, 19, 50, 62, 62, 62, 62, 6...   \n",
              "968   [62, 62, 62, 62, 62, 62, 62, 62, 62, 62, 62, 6...   \n",
              "47    [62, 62, 30, 61, 61, 62, 12, 43, 43, 43, 62, 6...   \n",
              "1519  [62, 62, 62, 62, 62, 62, 22, 53, 62, 62, 62, 6...   \n",
              "535   [62, 62, 62, 62, 62, 62, 22, 53, 22, 53, 22, 5...   \n",
              "\n",
              "                                               ner_tags          section  \\\n",
              "1085  [O, O, O, O, O, B-ObservationalTechniques, I-O...         fulltext   \n",
              "968   [O, O, O, O, O, O, O, O, O, O, O, O, O, O, O, ...         fulltext   \n",
              "47    [O, O, B-Wavelength, I-Wavelength, I-Wavelengt...         fulltext   \n",
              "1519  [O, O, O, O, O, O, B-Person, I-Person, O, O, O...  acknowledgments   \n",
              "535   [O, O, O, O, O, O, B-Person, I-Person, B-Perso...  acknowledgments   \n",
              "\n",
              "                                                 tokens  \\\n",
              "1085  [pointings, (what, we, will, call, translation...   \n",
              "968   [inclination,, i, ,, must, be, specified, duri...   \n",
              "47    [component, of, Fe, K, α, emission, (log, ξ, =...   \n",
              "1519  [The, authors, would, like, to, thank, Antonio...   \n",
              "535   [The, authors, would, like, to, thank, Basu, A...   \n",
              "\n",
              "                                    unique_id  \n",
              "1085         fulltext_671_2020MNRAS.499.1140A  \n",
              "968         fulltext_1390_2017MNRAS.466.1733B  \n",
              "47          fulltext_1656_2016ApJ...831..201L  \n",
              "1519  acknowledgments_257_2015MNRAS.452.1779S  \n",
              "535   acknowledgments_928_2016MNRAS.456.1723L  "
            ],
            "text/html": [
              "\n",
              "  <div id=\"df-73bdfe82-c1e5-4b2d-92a8-1a57f32ecb39\">\n",
              "    <div class=\"colab-df-container\">\n",
              "      <div>\n",
              "<style scoped>\n",
              "    .dataframe tbody tr th:only-of-type {\n",
              "        vertical-align: middle;\n",
              "    }\n",
              "\n",
              "    .dataframe tbody tr th {\n",
              "        vertical-align: top;\n",
              "    }\n",
              "\n",
              "    .dataframe thead th {\n",
              "        text-align: right;\n",
              "    }\n",
              "</style>\n",
              "<table border=\"1\" class=\"dataframe\">\n",
              "  <thead>\n",
              "    <tr style=\"text-align: right;\">\n",
              "      <th></th>\n",
              "      <th>bibcode</th>\n",
              "      <th>label_studio_id</th>\n",
              "      <th>ner_ids</th>\n",
              "      <th>ner_tags</th>\n",
              "      <th>section</th>\n",
              "      <th>tokens</th>\n",
              "      <th>unique_id</th>\n",
              "    </tr>\n",
              "  </thead>\n",
              "  <tbody>\n",
              "    <tr>\n",
              "      <th>1085</th>\n",
              "      <td>2020MNRAS.499.1140A</td>\n",
              "      <td>671</td>\n",
              "      <td>[62, 62, 62, 62, 62, 19, 50, 62, 62, 62, 62, 6...</td>\n",
              "      <td>[O, O, O, O, O, B-ObservationalTechniques, I-O...</td>\n",
              "      <td>fulltext</td>\n",
              "      <td>[pointings, (what, we, will, call, translation...</td>\n",
              "      <td>fulltext_671_2020MNRAS.499.1140A</td>\n",
              "    </tr>\n",
              "    <tr>\n",
              "      <th>968</th>\n",
              "      <td>2017MNRAS.466.1733B</td>\n",
              "      <td>1390</td>\n",
              "      <td>[62, 62, 62, 62, 62, 62, 62, 62, 62, 62, 62, 6...</td>\n",
              "      <td>[O, O, O, O, O, O, O, O, O, O, O, O, O, O, O, ...</td>\n",
              "      <td>fulltext</td>\n",
              "      <td>[inclination,, i, ,, must, be, specified, duri...</td>\n",
              "      <td>fulltext_1390_2017MNRAS.466.1733B</td>\n",
              "    </tr>\n",
              "    <tr>\n",
              "      <th>47</th>\n",
              "      <td>2016ApJ...831..201L</td>\n",
              "      <td>1656</td>\n",
              "      <td>[62, 62, 30, 61, 61, 62, 12, 43, 43, 43, 62, 6...</td>\n",
              "      <td>[O, O, B-Wavelength, I-Wavelength, I-Wavelengt...</td>\n",
              "      <td>fulltext</td>\n",
              "      <td>[component, of, Fe, K, α, emission, (log, ξ, =...</td>\n",
              "      <td>fulltext_1656_2016ApJ...831..201L</td>\n",
              "    </tr>\n",
              "    <tr>\n",
              "      <th>1519</th>\n",
              "      <td>2015MNRAS.452.1779S</td>\n",
              "      <td>257</td>\n",
              "      <td>[62, 62, 62, 62, 62, 62, 22, 53, 62, 62, 62, 6...</td>\n",
              "      <td>[O, O, O, O, O, O, B-Person, I-Person, O, O, O...</td>\n",
              "      <td>acknowledgments</td>\n",
              "      <td>[The, authors, would, like, to, thank, Antonio...</td>\n",
              "      <td>acknowledgments_257_2015MNRAS.452.1779S</td>\n",
              "    </tr>\n",
              "    <tr>\n",
              "      <th>535</th>\n",
              "      <td>2016MNRAS.456.1723L</td>\n",
              "      <td>928</td>\n",
              "      <td>[62, 62, 62, 62, 62, 62, 22, 53, 22, 53, 22, 5...</td>\n",
              "      <td>[O, O, O, O, O, O, B-Person, I-Person, B-Perso...</td>\n",
              "      <td>acknowledgments</td>\n",
              "      <td>[The, authors, would, like, to, thank, Basu, A...</td>\n",
              "      <td>acknowledgments_928_2016MNRAS.456.1723L</td>\n",
              "    </tr>\n",
              "  </tbody>\n",
              "</table>\n",
              "</div>\n",
              "      <button class=\"colab-df-convert\" onclick=\"convertToInteractive('df-73bdfe82-c1e5-4b2d-92a8-1a57f32ecb39')\"\n",
              "              title=\"Convert this dataframe to an interactive table.\"\n",
              "              style=\"display:none;\">\n",
              "        \n",
              "  <svg xmlns=\"http://www.w3.org/2000/svg\" height=\"24px\"viewBox=\"0 0 24 24\"\n",
              "       width=\"24px\">\n",
              "    <path d=\"M0 0h24v24H0V0z\" fill=\"none\"/>\n",
              "    <path d=\"M18.56 5.44l.94 2.06.94-2.06 2.06-.94-2.06-.94-.94-2.06-.94 2.06-2.06.94zm-11 1L8.5 8.5l.94-2.06 2.06-.94-2.06-.94L8.5 2.5l-.94 2.06-2.06.94zm10 10l.94 2.06.94-2.06 2.06-.94-2.06-.94-.94-2.06-.94 2.06-2.06.94z\"/><path d=\"M17.41 7.96l-1.37-1.37c-.4-.4-.92-.59-1.43-.59-.52 0-1.04.2-1.43.59L10.3 9.45l-7.72 7.72c-.78.78-.78 2.05 0 2.83L4 21.41c.39.39.9.59 1.41.59.51 0 1.02-.2 1.41-.59l7.78-7.78 2.81-2.81c.8-.78.8-2.07 0-2.86zM5.41 20L4 18.59l7.72-7.72 1.47 1.35L5.41 20z\"/>\n",
              "  </svg>\n",
              "      </button>\n",
              "      \n",
              "  <style>\n",
              "    .colab-df-container {\n",
              "      display:flex;\n",
              "      flex-wrap:wrap;\n",
              "      gap: 12px;\n",
              "    }\n",
              "\n",
              "    .colab-df-convert {\n",
              "      background-color: #E8F0FE;\n",
              "      border: none;\n",
              "      border-radius: 50%;\n",
              "      cursor: pointer;\n",
              "      display: none;\n",
              "      fill: #1967D2;\n",
              "      height: 32px;\n",
              "      padding: 0 0 0 0;\n",
              "      width: 32px;\n",
              "    }\n",
              "\n",
              "    .colab-df-convert:hover {\n",
              "      background-color: #E2EBFA;\n",
              "      box-shadow: 0px 1px 2px rgba(60, 64, 67, 0.3), 0px 1px 3px 1px rgba(60, 64, 67, 0.15);\n",
              "      fill: #174EA6;\n",
              "    }\n",
              "\n",
              "    [theme=dark] .colab-df-convert {\n",
              "      background-color: #3B4455;\n",
              "      fill: #D2E3FC;\n",
              "    }\n",
              "\n",
              "    [theme=dark] .colab-df-convert:hover {\n",
              "      background-color: #434B5C;\n",
              "      box-shadow: 0px 1px 3px 1px rgba(0, 0, 0, 0.15);\n",
              "      filter: drop-shadow(0px 1px 2px rgba(0, 0, 0, 0.3));\n",
              "      fill: #FFFFFF;\n",
              "    }\n",
              "  </style>\n",
              "\n",
              "      <script>\n",
              "        const buttonEl =\n",
              "          document.querySelector('#df-73bdfe82-c1e5-4b2d-92a8-1a57f32ecb39 button.colab-df-convert');\n",
              "        buttonEl.style.display =\n",
              "          google.colab.kernel.accessAllowed ? 'block' : 'none';\n",
              "\n",
              "        async function convertToInteractive(key) {\n",
              "          const element = document.querySelector('#df-73bdfe82-c1e5-4b2d-92a8-1a57f32ecb39');\n",
              "          const dataTable =\n",
              "            await google.colab.kernel.invokeFunction('convertToInteractive',\n",
              "                                                     [key], {});\n",
              "          if (!dataTable) return;\n",
              "\n",
              "          const docLinkHtml = 'Like what you see? Visit the ' +\n",
              "            '<a target=\"_blank\" href=https://colab.research.google.com/notebooks/data_table.ipynb>data table notebook</a>'\n",
              "            + ' to learn more about interactive tables.';\n",
              "          element.innerHTML = '';\n",
              "          dataTable['output_type'] = 'display_data';\n",
              "          await google.colab.output.renderOutput(dataTable, element);\n",
              "          const docLink = document.createElement('div');\n",
              "          docLink.innerHTML = docLinkHtml;\n",
              "          element.appendChild(docLink);\n",
              "        }\n",
              "      </script>\n",
              "    </div>\n",
              "  </div>\n",
              "  "
            ]
          },
          "metadata": {},
          "execution_count": 9
        }
      ]
    },
    {
      "cell_type": "code",
      "source": [
        "# defining reference data and predictions data\n",
        "reference_data = test_data[['unique_id','ner_tags','tokens']]\n",
        "predictions_dataset = test_data[['unique_id','tokens']]"
      ],
      "metadata": {
        "id": "q3xCFgTUIxGH"
      },
      "execution_count": 10,
      "outputs": []
    },
    {
      "cell_type": "code",
      "source": [
        "# creating a column called unit number\n",
        "train_data['Unit #'] = train_data.index\n",
        "\n",
        "#We set the index as the unit number. Then we filter each unit, joininig the text\n",
        "train_data.set_index('Unit #', inplace=True)"
      ],
      "metadata": {
        "id": "aEjTwhQ6aHs-"
      },
      "execution_count": 11,
      "outputs": []
    },
    {
      "cell_type": "code",
      "source": [
        "# creating a column called unit number for test data\n",
        "test_data['Unit #'] = test_data.index\n",
        "reference_data['Unit #'] = reference_data.index\n",
        "\n",
        "#We set the index as the unit number. Then we filter each unit, joininig the text\n",
        "test_data.set_index('Unit #', inplace=True)\n",
        "reference_data.set_index('Unit #', inplace=True)"
      ],
      "metadata": {
        "id": "VmJBP3hBl3Y7",
        "colab": {
          "base_uri": "https://localhost:8080/"
        },
        "outputId": "34d01ef9-7509-4020-d865-70c1e8012d73"
      },
      "execution_count": 12,
      "outputs": [
        {
          "output_type": "stream",
          "name": "stderr",
          "text": [
            "/usr/local/lib/python3.7/dist-packages/ipykernel_launcher.py:3: SettingWithCopyWarning: \n",
            "A value is trying to be set on a copy of a slice from a DataFrame.\n",
            "Try using .loc[row_indexer,col_indexer] = value instead\n",
            "\n",
            "See the caveats in the documentation: https://pandas.pydata.org/pandas-docs/stable/user_guide/indexing.html#returning-a-view-versus-a-copy\n",
            "  This is separate from the ipykernel package so we can avoid doing imports until\n"
          ]
        }
      ]
    },
    {
      "cell_type": "code",
      "source": [
        "# Exploding ner_ids and tokens\n",
        "train_data = train_data.explode(['ner_ids','tokens','ner_tags'])\n",
        "test_data = test_data.explode(['ner_ids','tokens','ner_tags'])\n",
        "# reference_data = reference_data.explode(['ner_tags'])"
      ],
      "metadata": {
        "id": "yaqDu1trcuC7"
      },
      "execution_count": 13,
      "outputs": []
    },
    {
      "cell_type": "code",
      "source": [
        "# Since the ner_ids also have the value 0, this can be confusing when we use padding 0.\n",
        "train_data.ner_ids = train_data.ner_ids.values + 1\n",
        "test_data.ner_ids = test_data.ner_ids.values + 1"
      ],
      "metadata": {
        "id": "NVAaLREl0RT2"
      },
      "execution_count": 14,
      "outputs": []
    },
    {
      "cell_type": "code",
      "source": [
        "# One hot encoding if a token belongs to b, i or o\n",
        "b_i_o = []\n",
        "for i in train_data['ner_ids']:\n",
        "  if i == 63:\n",
        "    b_i_o.append([0,0,1])\n",
        "  if i >= 1 and i < 32:\n",
        "    b_i_o.append([1,0,0])\n",
        "  if i >= 32 and i < 63:\n",
        "    b_i_o.append([0,1,0])\n",
        "\n",
        "train_data[['b','i','o']] = b_i_o"
      ],
      "metadata": {
        "id": "aS_aGv7eO7_a"
      },
      "execution_count": 15,
      "outputs": []
    },
    {
      "cell_type": "code",
      "source": [
        "b_i_o = []\n",
        "for i in test_data['ner_ids']:\n",
        "  if i == 63:\n",
        "    b_i_o.append([0,0,1])\n",
        "  if i >= 1 and i < 32:\n",
        "    b_i_o.append([1,0,0])\n",
        "  if i >= 32 and i < 63:\n",
        "    b_i_o.append([0,1,0])\n",
        "\n",
        "test_data[['b','i','o']] = b_i_o"
      ],
      "metadata": {
        "id": "pPwAvoeuOTML"
      },
      "execution_count": 16,
      "outputs": []
    },
    {
      "cell_type": "code",
      "source": [
        "# having a quick look at the data for unit\n",
        "train_data.loc[1]"
      ],
      "metadata": {
        "colab": {
          "base_uri": "https://localhost:8080/",
          "height": 455
        },
        "id": "TMV7LHu9eFWl",
        "outputId": "f9a5e182-a033-468e-ff10-b78b9cd1c7a2"
      },
      "execution_count": 17,
      "outputs": [
        {
          "output_type": "execute_result",
          "data": {
            "text/plain": [
              "                    bibcode  label_studio_id ner_ids ner_tags   section  \\\n",
              "Unit #                                                                    \n",
              "1       2018MNRAS.478.5533F             1129      63        O  fulltext   \n",
              "1       2018MNRAS.478.5533F             1129      63        O  fulltext   \n",
              "1       2018MNRAS.478.5533F             1129      63        O  fulltext   \n",
              "1       2018MNRAS.478.5533F             1129      63        O  fulltext   \n",
              "1       2018MNRAS.478.5533F             1129      63        O  fulltext   \n",
              "...                     ...              ...     ...      ...       ...   \n",
              "1       2018MNRAS.478.5533F             1129      63        O  fulltext   \n",
              "1       2018MNRAS.478.5533F             1129      63        O  fulltext   \n",
              "1       2018MNRAS.478.5533F             1129      63        O  fulltext   \n",
              "1       2018MNRAS.478.5533F             1129      63        O  fulltext   \n",
              "1       2018MNRAS.478.5533F             1129      63        O  fulltext   \n",
              "\n",
              "            tokens                          unique_id  b  i  o  \n",
              "Unit #                                                          \n",
              "1       comparison  fulltext_1129_2018MNRAS.478.5533F  0  0  1  \n",
              "1             once  fulltext_1129_2018MNRAS.478.5533F  0  0  1  \n",
              "1              the  fulltext_1129_2018MNRAS.478.5533F  0  0  1  \n",
              "1          angular  fulltext_1129_2018MNRAS.478.5533F  0  0  1  \n",
              "1        positions  fulltext_1129_2018MNRAS.478.5533F  0  0  1  \n",
              "...            ...                                ... .. .. ..  \n",
              "1               we  fulltext_1129_2018MNRAS.478.5533F  0  0  1  \n",
              "1            count  fulltext_1129_2018MNRAS.478.5533F  0  0  1  \n",
              "1              the  fulltext_1129_2018MNRAS.478.5533F  0  0  1  \n",
              "1         fraction  fulltext_1129_2018MNRAS.478.5533F  0  0  1  \n",
              "1               of  fulltext_1129_2018MNRAS.478.5533F  0  0  1  \n",
              "\n",
              "[512 rows x 10 columns]"
            ],
            "text/html": [
              "\n",
              "  <div id=\"df-139ba87d-5e6c-405f-9be4-6e9fd69ada81\">\n",
              "    <div class=\"colab-df-container\">\n",
              "      <div>\n",
              "<style scoped>\n",
              "    .dataframe tbody tr th:only-of-type {\n",
              "        vertical-align: middle;\n",
              "    }\n",
              "\n",
              "    .dataframe tbody tr th {\n",
              "        vertical-align: top;\n",
              "    }\n",
              "\n",
              "    .dataframe thead th {\n",
              "        text-align: right;\n",
              "    }\n",
              "</style>\n",
              "<table border=\"1\" class=\"dataframe\">\n",
              "  <thead>\n",
              "    <tr style=\"text-align: right;\">\n",
              "      <th></th>\n",
              "      <th>bibcode</th>\n",
              "      <th>label_studio_id</th>\n",
              "      <th>ner_ids</th>\n",
              "      <th>ner_tags</th>\n",
              "      <th>section</th>\n",
              "      <th>tokens</th>\n",
              "      <th>unique_id</th>\n",
              "      <th>b</th>\n",
              "      <th>i</th>\n",
              "      <th>o</th>\n",
              "    </tr>\n",
              "    <tr>\n",
              "      <th>Unit #</th>\n",
              "      <th></th>\n",
              "      <th></th>\n",
              "      <th></th>\n",
              "      <th></th>\n",
              "      <th></th>\n",
              "      <th></th>\n",
              "      <th></th>\n",
              "      <th></th>\n",
              "      <th></th>\n",
              "      <th></th>\n",
              "    </tr>\n",
              "  </thead>\n",
              "  <tbody>\n",
              "    <tr>\n",
              "      <th>1</th>\n",
              "      <td>2018MNRAS.478.5533F</td>\n",
              "      <td>1129</td>\n",
              "      <td>63</td>\n",
              "      <td>O</td>\n",
              "      <td>fulltext</td>\n",
              "      <td>comparison</td>\n",
              "      <td>fulltext_1129_2018MNRAS.478.5533F</td>\n",
              "      <td>0</td>\n",
              "      <td>0</td>\n",
              "      <td>1</td>\n",
              "    </tr>\n",
              "    <tr>\n",
              "      <th>1</th>\n",
              "      <td>2018MNRAS.478.5533F</td>\n",
              "      <td>1129</td>\n",
              "      <td>63</td>\n",
              "      <td>O</td>\n",
              "      <td>fulltext</td>\n",
              "      <td>once</td>\n",
              "      <td>fulltext_1129_2018MNRAS.478.5533F</td>\n",
              "      <td>0</td>\n",
              "      <td>0</td>\n",
              "      <td>1</td>\n",
              "    </tr>\n",
              "    <tr>\n",
              "      <th>1</th>\n",
              "      <td>2018MNRAS.478.5533F</td>\n",
              "      <td>1129</td>\n",
              "      <td>63</td>\n",
              "      <td>O</td>\n",
              "      <td>fulltext</td>\n",
              "      <td>the</td>\n",
              "      <td>fulltext_1129_2018MNRAS.478.5533F</td>\n",
              "      <td>0</td>\n",
              "      <td>0</td>\n",
              "      <td>1</td>\n",
              "    </tr>\n",
              "    <tr>\n",
              "      <th>1</th>\n",
              "      <td>2018MNRAS.478.5533F</td>\n",
              "      <td>1129</td>\n",
              "      <td>63</td>\n",
              "      <td>O</td>\n",
              "      <td>fulltext</td>\n",
              "      <td>angular</td>\n",
              "      <td>fulltext_1129_2018MNRAS.478.5533F</td>\n",
              "      <td>0</td>\n",
              "      <td>0</td>\n",
              "      <td>1</td>\n",
              "    </tr>\n",
              "    <tr>\n",
              "      <th>1</th>\n",
              "      <td>2018MNRAS.478.5533F</td>\n",
              "      <td>1129</td>\n",
              "      <td>63</td>\n",
              "      <td>O</td>\n",
              "      <td>fulltext</td>\n",
              "      <td>positions</td>\n",
              "      <td>fulltext_1129_2018MNRAS.478.5533F</td>\n",
              "      <td>0</td>\n",
              "      <td>0</td>\n",
              "      <td>1</td>\n",
              "    </tr>\n",
              "    <tr>\n",
              "      <th>...</th>\n",
              "      <td>...</td>\n",
              "      <td>...</td>\n",
              "      <td>...</td>\n",
              "      <td>...</td>\n",
              "      <td>...</td>\n",
              "      <td>...</td>\n",
              "      <td>...</td>\n",
              "      <td>...</td>\n",
              "      <td>...</td>\n",
              "      <td>...</td>\n",
              "    </tr>\n",
              "    <tr>\n",
              "      <th>1</th>\n",
              "      <td>2018MNRAS.478.5533F</td>\n",
              "      <td>1129</td>\n",
              "      <td>63</td>\n",
              "      <td>O</td>\n",
              "      <td>fulltext</td>\n",
              "      <td>we</td>\n",
              "      <td>fulltext_1129_2018MNRAS.478.5533F</td>\n",
              "      <td>0</td>\n",
              "      <td>0</td>\n",
              "      <td>1</td>\n",
              "    </tr>\n",
              "    <tr>\n",
              "      <th>1</th>\n",
              "      <td>2018MNRAS.478.5533F</td>\n",
              "      <td>1129</td>\n",
              "      <td>63</td>\n",
              "      <td>O</td>\n",
              "      <td>fulltext</td>\n",
              "      <td>count</td>\n",
              "      <td>fulltext_1129_2018MNRAS.478.5533F</td>\n",
              "      <td>0</td>\n",
              "      <td>0</td>\n",
              "      <td>1</td>\n",
              "    </tr>\n",
              "    <tr>\n",
              "      <th>1</th>\n",
              "      <td>2018MNRAS.478.5533F</td>\n",
              "      <td>1129</td>\n",
              "      <td>63</td>\n",
              "      <td>O</td>\n",
              "      <td>fulltext</td>\n",
              "      <td>the</td>\n",
              "      <td>fulltext_1129_2018MNRAS.478.5533F</td>\n",
              "      <td>0</td>\n",
              "      <td>0</td>\n",
              "      <td>1</td>\n",
              "    </tr>\n",
              "    <tr>\n",
              "      <th>1</th>\n",
              "      <td>2018MNRAS.478.5533F</td>\n",
              "      <td>1129</td>\n",
              "      <td>63</td>\n",
              "      <td>O</td>\n",
              "      <td>fulltext</td>\n",
              "      <td>fraction</td>\n",
              "      <td>fulltext_1129_2018MNRAS.478.5533F</td>\n",
              "      <td>0</td>\n",
              "      <td>0</td>\n",
              "      <td>1</td>\n",
              "    </tr>\n",
              "    <tr>\n",
              "      <th>1</th>\n",
              "      <td>2018MNRAS.478.5533F</td>\n",
              "      <td>1129</td>\n",
              "      <td>63</td>\n",
              "      <td>O</td>\n",
              "      <td>fulltext</td>\n",
              "      <td>of</td>\n",
              "      <td>fulltext_1129_2018MNRAS.478.5533F</td>\n",
              "      <td>0</td>\n",
              "      <td>0</td>\n",
              "      <td>1</td>\n",
              "    </tr>\n",
              "  </tbody>\n",
              "</table>\n",
              "<p>512 rows × 10 columns</p>\n",
              "</div>\n",
              "      <button class=\"colab-df-convert\" onclick=\"convertToInteractive('df-139ba87d-5e6c-405f-9be4-6e9fd69ada81')\"\n",
              "              title=\"Convert this dataframe to an interactive table.\"\n",
              "              style=\"display:none;\">\n",
              "        \n",
              "  <svg xmlns=\"http://www.w3.org/2000/svg\" height=\"24px\"viewBox=\"0 0 24 24\"\n",
              "       width=\"24px\">\n",
              "    <path d=\"M0 0h24v24H0V0z\" fill=\"none\"/>\n",
              "    <path d=\"M18.56 5.44l.94 2.06.94-2.06 2.06-.94-2.06-.94-.94-2.06-.94 2.06-2.06.94zm-11 1L8.5 8.5l.94-2.06 2.06-.94-2.06-.94L8.5 2.5l-.94 2.06-2.06.94zm10 10l.94 2.06.94-2.06 2.06-.94-2.06-.94-.94-2.06-.94 2.06-2.06.94z\"/><path d=\"M17.41 7.96l-1.37-1.37c-.4-.4-.92-.59-1.43-.59-.52 0-1.04.2-1.43.59L10.3 9.45l-7.72 7.72c-.78.78-.78 2.05 0 2.83L4 21.41c.39.39.9.59 1.41.59.51 0 1.02-.2 1.41-.59l7.78-7.78 2.81-2.81c.8-.78.8-2.07 0-2.86zM5.41 20L4 18.59l7.72-7.72 1.47 1.35L5.41 20z\"/>\n",
              "  </svg>\n",
              "      </button>\n",
              "      \n",
              "  <style>\n",
              "    .colab-df-container {\n",
              "      display:flex;\n",
              "      flex-wrap:wrap;\n",
              "      gap: 12px;\n",
              "    }\n",
              "\n",
              "    .colab-df-convert {\n",
              "      background-color: #E8F0FE;\n",
              "      border: none;\n",
              "      border-radius: 50%;\n",
              "      cursor: pointer;\n",
              "      display: none;\n",
              "      fill: #1967D2;\n",
              "      height: 32px;\n",
              "      padding: 0 0 0 0;\n",
              "      width: 32px;\n",
              "    }\n",
              "\n",
              "    .colab-df-convert:hover {\n",
              "      background-color: #E2EBFA;\n",
              "      box-shadow: 0px 1px 2px rgba(60, 64, 67, 0.3), 0px 1px 3px 1px rgba(60, 64, 67, 0.15);\n",
              "      fill: #174EA6;\n",
              "    }\n",
              "\n",
              "    [theme=dark] .colab-df-convert {\n",
              "      background-color: #3B4455;\n",
              "      fill: #D2E3FC;\n",
              "    }\n",
              "\n",
              "    [theme=dark] .colab-df-convert:hover {\n",
              "      background-color: #434B5C;\n",
              "      box-shadow: 0px 1px 3px 1px rgba(0, 0, 0, 0.15);\n",
              "      filter: drop-shadow(0px 1px 2px rgba(0, 0, 0, 0.3));\n",
              "      fill: #FFFFFF;\n",
              "    }\n",
              "  </style>\n",
              "\n",
              "      <script>\n",
              "        const buttonEl =\n",
              "          document.querySelector('#df-139ba87d-5e6c-405f-9be4-6e9fd69ada81 button.colab-df-convert');\n",
              "        buttonEl.style.display =\n",
              "          google.colab.kernel.accessAllowed ? 'block' : 'none';\n",
              "\n",
              "        async function convertToInteractive(key) {\n",
              "          const element = document.querySelector('#df-139ba87d-5e6c-405f-9be4-6e9fd69ada81');\n",
              "          const dataTable =\n",
              "            await google.colab.kernel.invokeFunction('convertToInteractive',\n",
              "                                                     [key], {});\n",
              "          if (!dataTable) return;\n",
              "\n",
              "          const docLinkHtml = 'Like what you see? Visit the ' +\n",
              "            '<a target=\"_blank\" href=https://colab.research.google.com/notebooks/data_table.ipynb>data table notebook</a>'\n",
              "            + ' to learn more about interactive tables.';\n",
              "          element.innerHTML = '';\n",
              "          dataTable['output_type'] = 'display_data';\n",
              "          await google.colab.output.renderOutput(dataTable, element);\n",
              "          const docLink = document.createElement('div');\n",
              "          docLink.innerHTML = docLinkHtml;\n",
              "          element.appendChild(docLink);\n",
              "        }\n",
              "      </script>\n",
              "    </div>\n",
              "  </div>\n",
              "  "
            ]
          },
          "metadata": {},
          "execution_count": 17
        }
      ]
    },
    {
      "cell_type": "markdown",
      "source": [
        "We have not taken out special characters as we understand for tags like urls and formulas, it is necessary for the text to have special characters."
      ],
      "metadata": {
        "id": "y-NOXOWyd4Sj"
      }
    },
    {
      "cell_type": "code",
      "source": [
        "# Tokenize the words\n",
        "tokenizer = tf.keras.preprocessing.text.Tokenizer(num_words=None,\n",
        "                                                filters='',\n",
        "                                                lower=True,\n",
        "                                                split=' ') # Initialize\n",
        "\n",
        "tokenizer.fit_on_texts(train_data.tokens.values) # Fit on training data"
      ],
      "metadata": {
        "id": "b_d0KgTeh_6D"
      },
      "execution_count": 18,
      "outputs": []
    },
    {
      "cell_type": "code",
      "source": [
        "# Transform to numeric\n",
        "tokens_train = tokenizer.texts_to_sequences(train_data.tokens.values)\n",
        "tokens_test   = tokenizer.texts_to_sequences(test_data.tokens.values)"
      ],
      "metadata": {
        "id": "fOFqbGY9jcG4"
      },
      "execution_count": 19,
      "outputs": []
    },
    {
      "cell_type": "code",
      "source": [
        "# Have a look at the data to ensure that there are no empty elements\n",
        "print(\"The number of empty lists in train data : \",np.array([token==[] for token in tokens_train]).sum())\n",
        "print(\"The number of empty lists in test data : \",np.array([token==[] for token in tokens_test]).sum())"
      ],
      "metadata": {
        "colab": {
          "base_uri": "https://localhost:8080/"
        },
        "id": "pzXyX67RE0C6",
        "outputId": "476af40f-750c-4c50-de63-c7634530d6d6"
      },
      "execution_count": 20,
      "outputs": [
        {
          "output_type": "stream",
          "name": "stdout",
          "text": [
            "The number of empty lists in train data :  0\n",
            "The number of empty lists in test data :  7582\n"
          ]
        }
      ]
    },
    {
      "cell_type": "code",
      "source": [
        "b = np.array([token!=[] for token in tokens_test])\n",
        "test_data = test_data.iloc[b,:]\n",
        "tokens_test = np.array(tokens_test)[b]"
      ],
      "metadata": {
        "colab": {
          "base_uri": "https://localhost:8080/"
        },
        "id": "A5-fWhMvdzUu",
        "outputId": "d8e8b64c-bd54-4b21-fe1f-8fdf9fd5426b"
      },
      "execution_count": 21,
      "outputs": [
        {
          "output_type": "stream",
          "name": "stderr",
          "text": [
            "/usr/local/lib/python3.7/dist-packages/ipykernel_launcher.py:3: VisibleDeprecationWarning: Creating an ndarray from ragged nested sequences (which is a list-or-tuple of lists-or-tuples-or ndarrays with different lengths or shapes) is deprecated. If you meant to do this, you must specify 'dtype=object' when creating the ndarray.\n",
            "  This is separate from the ipykernel package so we can avoid doing imports until\n"
          ]
        }
      ]
    },
    {
      "cell_type": "code",
      "source": [
        "# structuring the train and test tokens\n",
        "train_data.tokens = tokens_train\n",
        "test_data.tokens = tokens_test\n",
        "\n",
        "train_data.tokens=train_data.tokens.map(lambda x: x[0])\n",
        "test_data.tokens=test_data.tokens.map(lambda x: x[0])"
      ],
      "metadata": {
        "id": "-niDHgFnj8B9"
      },
      "execution_count": 22,
      "outputs": []
    },
    {
      "cell_type": "code",
      "source": [
        "test_data.head()"
      ],
      "metadata": {
        "colab": {
          "base_uri": "https://localhost:8080/",
          "height": 238
        },
        "id": "aYupwhYhdGgY",
        "outputId": "a6a35032-fad5-4e57-b583-72ab3e8c6250"
      },
      "execution_count": 23,
      "outputs": [
        {
          "output_type": "execute_result",
          "data": {
            "text/plain": [
              "                    bibcode  label_studio_id ner_ids ner_tags   section  \\\n",
              "Unit #                                                                    \n",
              "1085    2020MNRAS.499.1140A              671      63        O  fulltext   \n",
              "1085    2020MNRAS.499.1140A              671      63        O  fulltext   \n",
              "1085    2020MNRAS.499.1140A              671      63        O  fulltext   \n",
              "1085    2020MNRAS.499.1140A              671      63        O  fulltext   \n",
              "1085    2020MNRAS.499.1140A              671      63        O  fulltext   \n",
              "\n",
              "        tokens                         unique_id  b  i  o  \n",
              "Unit #                                                     \n",
              "1085     36205  fulltext_671_2020MNRAS.499.1140A  0  0  1  \n",
              "1085         9  fulltext_671_2020MNRAS.499.1140A  0  0  1  \n",
              "1085       139  fulltext_671_2020MNRAS.499.1140A  0  0  1  \n",
              "1085     13406  fulltext_671_2020MNRAS.499.1140A  0  0  1  \n",
              "1085         3  fulltext_671_2020MNRAS.499.1140A  0  0  1  "
            ],
            "text/html": [
              "\n",
              "  <div id=\"df-f00eb07c-69e9-4065-b86b-3dc6de70e1e9\">\n",
              "    <div class=\"colab-df-container\">\n",
              "      <div>\n",
              "<style scoped>\n",
              "    .dataframe tbody tr th:only-of-type {\n",
              "        vertical-align: middle;\n",
              "    }\n",
              "\n",
              "    .dataframe tbody tr th {\n",
              "        vertical-align: top;\n",
              "    }\n",
              "\n",
              "    .dataframe thead th {\n",
              "        text-align: right;\n",
              "    }\n",
              "</style>\n",
              "<table border=\"1\" class=\"dataframe\">\n",
              "  <thead>\n",
              "    <tr style=\"text-align: right;\">\n",
              "      <th></th>\n",
              "      <th>bibcode</th>\n",
              "      <th>label_studio_id</th>\n",
              "      <th>ner_ids</th>\n",
              "      <th>ner_tags</th>\n",
              "      <th>section</th>\n",
              "      <th>tokens</th>\n",
              "      <th>unique_id</th>\n",
              "      <th>b</th>\n",
              "      <th>i</th>\n",
              "      <th>o</th>\n",
              "    </tr>\n",
              "    <tr>\n",
              "      <th>Unit #</th>\n",
              "      <th></th>\n",
              "      <th></th>\n",
              "      <th></th>\n",
              "      <th></th>\n",
              "      <th></th>\n",
              "      <th></th>\n",
              "      <th></th>\n",
              "      <th></th>\n",
              "      <th></th>\n",
              "      <th></th>\n",
              "    </tr>\n",
              "  </thead>\n",
              "  <tbody>\n",
              "    <tr>\n",
              "      <th>1085</th>\n",
              "      <td>2020MNRAS.499.1140A</td>\n",
              "      <td>671</td>\n",
              "      <td>63</td>\n",
              "      <td>O</td>\n",
              "      <td>fulltext</td>\n",
              "      <td>36205</td>\n",
              "      <td>fulltext_671_2020MNRAS.499.1140A</td>\n",
              "      <td>0</td>\n",
              "      <td>0</td>\n",
              "      <td>1</td>\n",
              "    </tr>\n",
              "    <tr>\n",
              "      <th>1085</th>\n",
              "      <td>2020MNRAS.499.1140A</td>\n",
              "      <td>671</td>\n",
              "      <td>63</td>\n",
              "      <td>O</td>\n",
              "      <td>fulltext</td>\n",
              "      <td>9</td>\n",
              "      <td>fulltext_671_2020MNRAS.499.1140A</td>\n",
              "      <td>0</td>\n",
              "      <td>0</td>\n",
              "      <td>1</td>\n",
              "    </tr>\n",
              "    <tr>\n",
              "      <th>1085</th>\n",
              "      <td>2020MNRAS.499.1140A</td>\n",
              "      <td>671</td>\n",
              "      <td>63</td>\n",
              "      <td>O</td>\n",
              "      <td>fulltext</td>\n",
              "      <td>139</td>\n",
              "      <td>fulltext_671_2020MNRAS.499.1140A</td>\n",
              "      <td>0</td>\n",
              "      <td>0</td>\n",
              "      <td>1</td>\n",
              "    </tr>\n",
              "    <tr>\n",
              "      <th>1085</th>\n",
              "      <td>2020MNRAS.499.1140A</td>\n",
              "      <td>671</td>\n",
              "      <td>63</td>\n",
              "      <td>O</td>\n",
              "      <td>fulltext</td>\n",
              "      <td>13406</td>\n",
              "      <td>fulltext_671_2020MNRAS.499.1140A</td>\n",
              "      <td>0</td>\n",
              "      <td>0</td>\n",
              "      <td>1</td>\n",
              "    </tr>\n",
              "    <tr>\n",
              "      <th>1085</th>\n",
              "      <td>2020MNRAS.499.1140A</td>\n",
              "      <td>671</td>\n",
              "      <td>63</td>\n",
              "      <td>O</td>\n",
              "      <td>fulltext</td>\n",
              "      <td>3</td>\n",
              "      <td>fulltext_671_2020MNRAS.499.1140A</td>\n",
              "      <td>0</td>\n",
              "      <td>0</td>\n",
              "      <td>1</td>\n",
              "    </tr>\n",
              "  </tbody>\n",
              "</table>\n",
              "</div>\n",
              "      <button class=\"colab-df-convert\" onclick=\"convertToInteractive('df-f00eb07c-69e9-4065-b86b-3dc6de70e1e9')\"\n",
              "              title=\"Convert this dataframe to an interactive table.\"\n",
              "              style=\"display:none;\">\n",
              "        \n",
              "  <svg xmlns=\"http://www.w3.org/2000/svg\" height=\"24px\"viewBox=\"0 0 24 24\"\n",
              "       width=\"24px\">\n",
              "    <path d=\"M0 0h24v24H0V0z\" fill=\"none\"/>\n",
              "    <path d=\"M18.56 5.44l.94 2.06.94-2.06 2.06-.94-2.06-.94-.94-2.06-.94 2.06-2.06.94zm-11 1L8.5 8.5l.94-2.06 2.06-.94-2.06-.94L8.5 2.5l-.94 2.06-2.06.94zm10 10l.94 2.06.94-2.06 2.06-.94-2.06-.94-.94-2.06-.94 2.06-2.06.94z\"/><path d=\"M17.41 7.96l-1.37-1.37c-.4-.4-.92-.59-1.43-.59-.52 0-1.04.2-1.43.59L10.3 9.45l-7.72 7.72c-.78.78-.78 2.05 0 2.83L4 21.41c.39.39.9.59 1.41.59.51 0 1.02-.2 1.41-.59l7.78-7.78 2.81-2.81c.8-.78.8-2.07 0-2.86zM5.41 20L4 18.59l7.72-7.72 1.47 1.35L5.41 20z\"/>\n",
              "  </svg>\n",
              "      </button>\n",
              "      \n",
              "  <style>\n",
              "    .colab-df-container {\n",
              "      display:flex;\n",
              "      flex-wrap:wrap;\n",
              "      gap: 12px;\n",
              "    }\n",
              "\n",
              "    .colab-df-convert {\n",
              "      background-color: #E8F0FE;\n",
              "      border: none;\n",
              "      border-radius: 50%;\n",
              "      cursor: pointer;\n",
              "      display: none;\n",
              "      fill: #1967D2;\n",
              "      height: 32px;\n",
              "      padding: 0 0 0 0;\n",
              "      width: 32px;\n",
              "    }\n",
              "\n",
              "    .colab-df-convert:hover {\n",
              "      background-color: #E2EBFA;\n",
              "      box-shadow: 0px 1px 2px rgba(60, 64, 67, 0.3), 0px 1px 3px 1px rgba(60, 64, 67, 0.15);\n",
              "      fill: #174EA6;\n",
              "    }\n",
              "\n",
              "    [theme=dark] .colab-df-convert {\n",
              "      background-color: #3B4455;\n",
              "      fill: #D2E3FC;\n",
              "    }\n",
              "\n",
              "    [theme=dark] .colab-df-convert:hover {\n",
              "      background-color: #434B5C;\n",
              "      box-shadow: 0px 1px 3px 1px rgba(0, 0, 0, 0.15);\n",
              "      filter: drop-shadow(0px 1px 2px rgba(0, 0, 0, 0.3));\n",
              "      fill: #FFFFFF;\n",
              "    }\n",
              "  </style>\n",
              "\n",
              "      <script>\n",
              "        const buttonEl =\n",
              "          document.querySelector('#df-f00eb07c-69e9-4065-b86b-3dc6de70e1e9 button.colab-df-convert');\n",
              "        buttonEl.style.display =\n",
              "          google.colab.kernel.accessAllowed ? 'block' : 'none';\n",
              "\n",
              "        async function convertToInteractive(key) {\n",
              "          const element = document.querySelector('#df-f00eb07c-69e9-4065-b86b-3dc6de70e1e9');\n",
              "          const dataTable =\n",
              "            await google.colab.kernel.invokeFunction('convertToInteractive',\n",
              "                                                     [key], {});\n",
              "          if (!dataTable) return;\n",
              "\n",
              "          const docLinkHtml = 'Like what you see? Visit the ' +\n",
              "            '<a target=\"_blank\" href=https://colab.research.google.com/notebooks/data_table.ipynb>data table notebook</a>'\n",
              "            + ' to learn more about interactive tables.';\n",
              "          element.innerHTML = '';\n",
              "          dataTable['output_type'] = 'display_data';\n",
              "          await google.colab.output.renderOutput(dataTable, element);\n",
              "          const docLink = document.createElement('div');\n",
              "          docLink.innerHTML = docLinkHtml;\n",
              "          element.appendChild(docLink);\n",
              "        }\n",
              "      </script>\n",
              "    </div>\n",
              "  </div>\n",
              "  "
            ]
          },
          "metadata": {},
          "execution_count": 23
        }
      ]
    },
    {
      "cell_type": "code",
      "source": [
        "train_data.head()"
      ],
      "metadata": {
        "colab": {
          "base_uri": "https://localhost:8080/",
          "height": 238
        },
        "id": "ubVeg8YAFyy_",
        "outputId": "f22af661-ff9a-4c26-e13b-8988365d0954"
      },
      "execution_count": 24,
      "outputs": [
        {
          "output_type": "execute_result",
          "data": {
            "text/plain": [
              "                    bibcode  label_studio_id ner_ids ner_tags   section  \\\n",
              "Unit #                                                                    \n",
              "1092    2021ApJ...913..130H              609      63        O  fulltext   \n",
              "1092    2021ApJ...913..130H              609      63        O  fulltext   \n",
              "1092    2021ApJ...913..130H              609      63        O  fulltext   \n",
              "1092    2021ApJ...913..130H              609      63        O  fulltext   \n",
              "1092    2021ApJ...913..130H              609      63        O  fulltext   \n",
              "\n",
              "        tokens                         unique_id  b  i  o  \n",
              "Unit #                                                     \n",
              "1092       386  fulltext_609_2021ApJ...913..130H  0  0  1  \n",
              "1092        86  fulltext_609_2021ApJ...913..130H  0  0  1  \n",
              "1092      2633  fulltext_609_2021ApJ...913..130H  0  0  1  \n",
              "1092         6  fulltext_609_2021ApJ...913..130H  0  0  1  \n",
              "1092       697  fulltext_609_2021ApJ...913..130H  0  0  1  "
            ],
            "text/html": [
              "\n",
              "  <div id=\"df-69636d68-b7a8-4603-b146-0a337138863b\">\n",
              "    <div class=\"colab-df-container\">\n",
              "      <div>\n",
              "<style scoped>\n",
              "    .dataframe tbody tr th:only-of-type {\n",
              "        vertical-align: middle;\n",
              "    }\n",
              "\n",
              "    .dataframe tbody tr th {\n",
              "        vertical-align: top;\n",
              "    }\n",
              "\n",
              "    .dataframe thead th {\n",
              "        text-align: right;\n",
              "    }\n",
              "</style>\n",
              "<table border=\"1\" class=\"dataframe\">\n",
              "  <thead>\n",
              "    <tr style=\"text-align: right;\">\n",
              "      <th></th>\n",
              "      <th>bibcode</th>\n",
              "      <th>label_studio_id</th>\n",
              "      <th>ner_ids</th>\n",
              "      <th>ner_tags</th>\n",
              "      <th>section</th>\n",
              "      <th>tokens</th>\n",
              "      <th>unique_id</th>\n",
              "      <th>b</th>\n",
              "      <th>i</th>\n",
              "      <th>o</th>\n",
              "    </tr>\n",
              "    <tr>\n",
              "      <th>Unit #</th>\n",
              "      <th></th>\n",
              "      <th></th>\n",
              "      <th></th>\n",
              "      <th></th>\n",
              "      <th></th>\n",
              "      <th></th>\n",
              "      <th></th>\n",
              "      <th></th>\n",
              "      <th></th>\n",
              "      <th></th>\n",
              "    </tr>\n",
              "  </thead>\n",
              "  <tbody>\n",
              "    <tr>\n",
              "      <th>1092</th>\n",
              "      <td>2021ApJ...913..130H</td>\n",
              "      <td>609</td>\n",
              "      <td>63</td>\n",
              "      <td>O</td>\n",
              "      <td>fulltext</td>\n",
              "      <td>386</td>\n",
              "      <td>fulltext_609_2021ApJ...913..130H</td>\n",
              "      <td>0</td>\n",
              "      <td>0</td>\n",
              "      <td>1</td>\n",
              "    </tr>\n",
              "    <tr>\n",
              "      <th>1092</th>\n",
              "      <td>2021ApJ...913..130H</td>\n",
              "      <td>609</td>\n",
              "      <td>63</td>\n",
              "      <td>O</td>\n",
              "      <td>fulltext</td>\n",
              "      <td>86</td>\n",
              "      <td>fulltext_609_2021ApJ...913..130H</td>\n",
              "      <td>0</td>\n",
              "      <td>0</td>\n",
              "      <td>1</td>\n",
              "    </tr>\n",
              "    <tr>\n",
              "      <th>1092</th>\n",
              "      <td>2021ApJ...913..130H</td>\n",
              "      <td>609</td>\n",
              "      <td>63</td>\n",
              "      <td>O</td>\n",
              "      <td>fulltext</td>\n",
              "      <td>2633</td>\n",
              "      <td>fulltext_609_2021ApJ...913..130H</td>\n",
              "      <td>0</td>\n",
              "      <td>0</td>\n",
              "      <td>1</td>\n",
              "    </tr>\n",
              "    <tr>\n",
              "      <th>1092</th>\n",
              "      <td>2021ApJ...913..130H</td>\n",
              "      <td>609</td>\n",
              "      <td>63</td>\n",
              "      <td>O</td>\n",
              "      <td>fulltext</td>\n",
              "      <td>6</td>\n",
              "      <td>fulltext_609_2021ApJ...913..130H</td>\n",
              "      <td>0</td>\n",
              "      <td>0</td>\n",
              "      <td>1</td>\n",
              "    </tr>\n",
              "    <tr>\n",
              "      <th>1092</th>\n",
              "      <td>2021ApJ...913..130H</td>\n",
              "      <td>609</td>\n",
              "      <td>63</td>\n",
              "      <td>O</td>\n",
              "      <td>fulltext</td>\n",
              "      <td>697</td>\n",
              "      <td>fulltext_609_2021ApJ...913..130H</td>\n",
              "      <td>0</td>\n",
              "      <td>0</td>\n",
              "      <td>1</td>\n",
              "    </tr>\n",
              "  </tbody>\n",
              "</table>\n",
              "</div>\n",
              "      <button class=\"colab-df-convert\" onclick=\"convertToInteractive('df-69636d68-b7a8-4603-b146-0a337138863b')\"\n",
              "              title=\"Convert this dataframe to an interactive table.\"\n",
              "              style=\"display:none;\">\n",
              "        \n",
              "  <svg xmlns=\"http://www.w3.org/2000/svg\" height=\"24px\"viewBox=\"0 0 24 24\"\n",
              "       width=\"24px\">\n",
              "    <path d=\"M0 0h24v24H0V0z\" fill=\"none\"/>\n",
              "    <path d=\"M18.56 5.44l.94 2.06.94-2.06 2.06-.94-2.06-.94-.94-2.06-.94 2.06-2.06.94zm-11 1L8.5 8.5l.94-2.06 2.06-.94-2.06-.94L8.5 2.5l-.94 2.06-2.06.94zm10 10l.94 2.06.94-2.06 2.06-.94-2.06-.94-.94-2.06-.94 2.06-2.06.94z\"/><path d=\"M17.41 7.96l-1.37-1.37c-.4-.4-.92-.59-1.43-.59-.52 0-1.04.2-1.43.59L10.3 9.45l-7.72 7.72c-.78.78-.78 2.05 0 2.83L4 21.41c.39.39.9.59 1.41.59.51 0 1.02-.2 1.41-.59l7.78-7.78 2.81-2.81c.8-.78.8-2.07 0-2.86zM5.41 20L4 18.59l7.72-7.72 1.47 1.35L5.41 20z\"/>\n",
              "  </svg>\n",
              "      </button>\n",
              "      \n",
              "  <style>\n",
              "    .colab-df-container {\n",
              "      display:flex;\n",
              "      flex-wrap:wrap;\n",
              "      gap: 12px;\n",
              "    }\n",
              "\n",
              "    .colab-df-convert {\n",
              "      background-color: #E8F0FE;\n",
              "      border: none;\n",
              "      border-radius: 50%;\n",
              "      cursor: pointer;\n",
              "      display: none;\n",
              "      fill: #1967D2;\n",
              "      height: 32px;\n",
              "      padding: 0 0 0 0;\n",
              "      width: 32px;\n",
              "    }\n",
              "\n",
              "    .colab-df-convert:hover {\n",
              "      background-color: #E2EBFA;\n",
              "      box-shadow: 0px 1px 2px rgba(60, 64, 67, 0.3), 0px 1px 3px 1px rgba(60, 64, 67, 0.15);\n",
              "      fill: #174EA6;\n",
              "    }\n",
              "\n",
              "    [theme=dark] .colab-df-convert {\n",
              "      background-color: #3B4455;\n",
              "      fill: #D2E3FC;\n",
              "    }\n",
              "\n",
              "    [theme=dark] .colab-df-convert:hover {\n",
              "      background-color: #434B5C;\n",
              "      box-shadow: 0px 1px 3px 1px rgba(0, 0, 0, 0.15);\n",
              "      filter: drop-shadow(0px 1px 2px rgba(0, 0, 0, 0.3));\n",
              "      fill: #FFFFFF;\n",
              "    }\n",
              "  </style>\n",
              "\n",
              "      <script>\n",
              "        const buttonEl =\n",
              "          document.querySelector('#df-69636d68-b7a8-4603-b146-0a337138863b button.colab-df-convert');\n",
              "        buttonEl.style.display =\n",
              "          google.colab.kernel.accessAllowed ? 'block' : 'none';\n",
              "\n",
              "        async function convertToInteractive(key) {\n",
              "          const element = document.querySelector('#df-69636d68-b7a8-4603-b146-0a337138863b');\n",
              "          const dataTable =\n",
              "            await google.colab.kernel.invokeFunction('convertToInteractive',\n",
              "                                                     [key], {});\n",
              "          if (!dataTable) return;\n",
              "\n",
              "          const docLinkHtml = 'Like what you see? Visit the ' +\n",
              "            '<a target=\"_blank\" href=https://colab.research.google.com/notebooks/data_table.ipynb>data table notebook</a>'\n",
              "            + ' to learn more about interactive tables.';\n",
              "          element.innerHTML = '';\n",
              "          dataTable['output_type'] = 'display_data';\n",
              "          await google.colab.output.renderOutput(dataTable, element);\n",
              "          const docLink = document.createElement('div');\n",
              "          docLink.innerHTML = docLinkHtml;\n",
              "          element.appendChild(docLink);\n",
              "        }\n",
              "      </script>\n",
              "    </div>\n",
              "  </div>\n",
              "  "
            ]
          },
          "metadata": {},
          "execution_count": 24
        }
      ]
    },
    {
      "cell_type": "markdown",
      "source": [
        "**Structuring the data in such a way that each unit is divided into lists of 50 words**</br> For eg- If any unit has 543 words, we shall split it in 11 different lists, the last list will have 43 words. We shall use padding to make it a list of length 50. </br></br>We have split the units in order to avoid the problem of vanishing gradients due to large lengths of the units. Since every unit in this dataset contains not just senetences, but a whole section like full text, or acknowledgement. So, it was necessary to clip their lengths.\n"
      ],
      "metadata": {
        "id": "nhb8c2Ompplu"
      }
    },
    {
      "cell_type": "code",
      "source": [
        "# We have kept the size of one unit to be simply 50.\n",
        "# as this text is not broken down by sentences, it has long length this may lead to vanishing gradients later.\n",
        "si = 50\n",
        "IDs_train = train_data.index.unique()\n",
        "train_sentences = []\n",
        "train_tags = []\n",
        "train_Ns = []\n",
        "train_os = []\n",
        "train_bs = []\n",
        "train_is = []\n",
        "\n",
        " # For each id\n",
        "for i in IDs_train:\n",
        "    # We extract the respective data\n",
        "    sel = train_data.loc[i]\n",
        "    # A sentence is a list of tokens\n",
        "    sentence = sel.tokens.values\n",
        "    # The tags correspond to each token\n",
        "    tag = sel['ner_ids'].values \n",
        "    o = sel['o']\n",
        "    b = sel['b']\n",
        "    i = sel['i']\n",
        "    \n",
        "    sen_size = sentence.shape[0]\n",
        "\n",
        "    if sen_size>si:\n",
        "      while(sen_size>si):\n",
        "        # We store the sentences in a list\n",
        "        train_sentences.append(np.array(sentence[:si]))\n",
        "        # We do the same with the tags  \n",
        "        train_tags.append(np.array(tag[:si]))            \n",
        "        train_os.append(np.array(o[:si]))\n",
        "        train_bs.append(np.array(b[:si]))\n",
        "        train_is.append(np.array(i[:si]))\n",
        "        # And store the length of the sentence\n",
        "        train_Ns.append(si)\n",
        "        sentence = sentence[si:]\n",
        "        tag = tag[si:]\n",
        "        o = o[si:]\n",
        "        b = b[si:]\n",
        "        i = i[si:]\n",
        "        sen_size = sentence.shape[0]\n",
        "      train_sentences.append(np.array(sentence))\n",
        "      train_tags.append(np.array(tag))\n",
        "      train_os.append(np.array(o))\n",
        "      train_bs.append(np.array(b))\n",
        "      train_is.append(np.array(i))\n",
        "      train_Ns.append(sentence.shape[0])\n",
        "\n",
        "    # adding the last sentence and tags\n",
        "    else:\n",
        "      train_sentences.append(np.array(sentence))\n",
        "      train_tags.append(np.array(tag))            \n",
        "      train_os.append(np.array(o[:si]))\n",
        "      train_bs.append(np.array(b[:si]))\n",
        "      train_is.append(np.array(i[:si]))\n",
        "      train_Ns.append(sentence.shape[0])"
      ],
      "metadata": {
        "id": "pEz8Dbq0vyji"
      },
      "execution_count": 25,
      "outputs": []
    },
    {
      "cell_type": "code",
      "source": [
        "# We transform everything into np arrays    \n",
        "train_Ns = np.array(train_Ns)\n",
        "train_sentences = np.array(train_sentences)\n",
        "train_tags = np.array(train_tags)\n",
        "train_os = np.array(train_os)\n",
        "train_bs = np.array(train_bs)\n",
        "train_is = np.array(train_is)"
      ],
      "metadata": {
        "colab": {
          "base_uri": "https://localhost:8080/"
        },
        "id": "Gil2jt-dv0LB",
        "outputId": "2eef3b53-5da7-4ebf-ea6d-99bb1008dff5"
      },
      "execution_count": 26,
      "outputs": [
        {
          "output_type": "stream",
          "name": "stderr",
          "text": [
            "/usr/local/lib/python3.7/dist-packages/ipykernel_launcher.py:3: VisibleDeprecationWarning: Creating an ndarray from ragged nested sequences (which is a list-or-tuple of lists-or-tuples-or ndarrays with different lengths or shapes) is deprecated. If you meant to do this, you must specify 'dtype=object' when creating the ndarray.\n",
            "  This is separate from the ipykernel package so we can avoid doing imports until\n",
            "/usr/local/lib/python3.7/dist-packages/ipykernel_launcher.py:4: VisibleDeprecationWarning: Creating an ndarray from ragged nested sequences (which is a list-or-tuple of lists-or-tuples-or ndarrays with different lengths or shapes) is deprecated. If you meant to do this, you must specify 'dtype=object' when creating the ndarray.\n",
            "  after removing the cwd from sys.path.\n",
            "/usr/local/lib/python3.7/dist-packages/ipykernel_launcher.py:5: VisibleDeprecationWarning: Creating an ndarray from ragged nested sequences (which is a list-or-tuple of lists-or-tuples-or ndarrays with different lengths or shapes) is deprecated. If you meant to do this, you must specify 'dtype=object' when creating the ndarray.\n",
            "  \"\"\"\n",
            "/usr/local/lib/python3.7/dist-packages/ipykernel_launcher.py:6: VisibleDeprecationWarning: Creating an ndarray from ragged nested sequences (which is a list-or-tuple of lists-or-tuples-or ndarrays with different lengths or shapes) is deprecated. If you meant to do this, you must specify 'dtype=object' when creating the ndarray.\n",
            "  \n",
            "/usr/local/lib/python3.7/dist-packages/ipykernel_launcher.py:7: VisibleDeprecationWarning: Creating an ndarray from ragged nested sequences (which is a list-or-tuple of lists-or-tuples-or ndarrays with different lengths or shapes) is deprecated. If you meant to do this, you must specify 'dtype=object' when creating the ndarray.\n",
            "  import sys\n"
          ]
        }
      ]
    },
    {
      "cell_type": "code",
      "source": [
        "# having a quick look at the shapes of the arrays created above\n",
        "print(IDs_train.shape, train_Ns.shape, train_sentences.shape, train_tags.shape, train_os.shape, train_bs.shape, train_is.shape)"
      ],
      "metadata": {
        "colab": {
          "base_uri": "https://localhost:8080/"
        },
        "id": "II3M-VL6y_ME",
        "outputId": "06213b16-258c-4738-cf3d-258f316c271e"
      },
      "execution_count": 27,
      "outputs": [
        {
          "output_type": "stream",
          "name": "stdout",
          "text": [
            "(1402,) (9779,) (9779,) (9779,) (9779,) (9779,) (9779,)\n"
          ]
        }
      ]
    },
    {
      "cell_type": "code",
      "source": [
        "# For simplicity, we create a padded array beforehand\n",
        "train_sentences_padded = tf.keras.preprocessing.sequence.pad_sequences(train_sentences, padding='post')\n",
        "train_tags_padded = tf.keras.preprocessing.sequence.pad_sequences(train_tags, padding='post')\n",
        "# here we have 1 describing tags which are not o and 2 describing tags which are o. 0 represents padding\n",
        "train_os_padded = tf.keras.preprocessing.sequence.pad_sequences(train_os + 1, padding='post')\n",
        "train_bs_padded = tf.keras.preprocessing.sequence.pad_sequences(train_bs, padding='post')\n",
        "train_is_padded = tf.keras.preprocessing.sequence.pad_sequences(train_is, padding='post')"
      ],
      "metadata": {
        "id": "k5sZ678qzjLN"
      },
      "execution_count": 28,
      "outputs": []
    },
    {
      "cell_type": "code",
      "source": [
        "# We create the test set structure\n",
        "IDs_test = test_data.index.unique()\n",
        "\n",
        "test_sentences = []\n",
        "test_tags = []\n",
        "test_Ns = []\n",
        "test_os = []\n",
        "test_bs = []\n",
        "test_is = []\n",
        "\n",
        "# For each id\n",
        "for i in IDs_test:\n",
        "    # We extract the respective data\n",
        "    sel = test_data.loc[i]\n",
        "    # A sentence is a list of tokens\n",
        "    sentence = sel.tokens.values \n",
        "    tag = sel['ner_ids'].values\n",
        "    o = sel['o']\n",
        "    b = sel['b']\n",
        "    i = sel['i']\n",
        "\n",
        "    sen_size = sentence.shape[0]\n",
        "\n",
        "    if sen_size>si:\n",
        "      while(sen_size>si):\n",
        "        # We store the sentences in a list\n",
        "        test_sentences.append(np.array(sentence[:si]))\n",
        "        # We do the same with the tags  \n",
        "        test_tags.append(np.array(tag[:si]))            \n",
        "        test_os.append(np.array(o[:si]))\n",
        "        test_bs.append(np.array(b[:si]))\n",
        "        test_is.append(np.array(i[:si]))\n",
        "        # And store the length of the sentence\n",
        "        test_Ns.append(si)\n",
        "        sentence = sentence[si:]\n",
        "        tag = tag[si:]\n",
        "        o = o[si:]\n",
        "        b = b[si:]\n",
        "        i = i[si:]\n",
        "        sen_size = sentence.shape[0]\n",
        "      \n",
        "      # adding the last sentence and tag\n",
        "      test_sentences.append(np.array(sentence))\n",
        "      test_tags.append(np.array(tag))            \n",
        "      test_os.append(np.array(o))\n",
        "      test_bs.append(np.array(b))\n",
        "      test_is.append(np.array(i))\n",
        "      test_Ns.append(sentence.shape[0])\n",
        "\n",
        "    # adding the last sentence and tags\n",
        "    else:\n",
        "      test_sentences.append(np.array(sentence))\n",
        "      test_tags.append(np.array(tag))\n",
        "      test_os.append(np.array(o[:si]))\n",
        "      test_bs.append(np.array(b[:si]))\n",
        "      test_is.append(np.array(i[:si]))\n",
        "      test_Ns.append(sentence.shape[0])"
      ],
      "metadata": {
        "id": "ZkwiMY2B1h5C"
      },
      "execution_count": 29,
      "outputs": []
    },
    {
      "cell_type": "code",
      "source": [
        "# We transform everything into np arrays    \n",
        "test_Ns = np.array(test_Ns)\n",
        "test_sentences = np.array(test_sentences)\n",
        "test_tags = np.array(test_tags)\n",
        "test_os = np.array(test_os)\n",
        "test_bs = np.array(test_bs)\n",
        "test_is = np.array(test_is)"
      ],
      "metadata": {
        "colab": {
          "base_uri": "https://localhost:8080/"
        },
        "id": "Gfq1U00J7gCt",
        "outputId": "b566622c-efce-4363-8d82-6beeda5e8845"
      },
      "execution_count": 30,
      "outputs": [
        {
          "output_type": "stream",
          "name": "stderr",
          "text": [
            "/usr/local/lib/python3.7/dist-packages/ipykernel_launcher.py:3: VisibleDeprecationWarning: Creating an ndarray from ragged nested sequences (which is a list-or-tuple of lists-or-tuples-or ndarrays with different lengths or shapes) is deprecated. If you meant to do this, you must specify 'dtype=object' when creating the ndarray.\n",
            "  This is separate from the ipykernel package so we can avoid doing imports until\n",
            "/usr/local/lib/python3.7/dist-packages/ipykernel_launcher.py:4: VisibleDeprecationWarning: Creating an ndarray from ragged nested sequences (which is a list-or-tuple of lists-or-tuples-or ndarrays with different lengths or shapes) is deprecated. If you meant to do this, you must specify 'dtype=object' when creating the ndarray.\n",
            "  after removing the cwd from sys.path.\n",
            "/usr/local/lib/python3.7/dist-packages/ipykernel_launcher.py:5: VisibleDeprecationWarning: Creating an ndarray from ragged nested sequences (which is a list-or-tuple of lists-or-tuples-or ndarrays with different lengths or shapes) is deprecated. If you meant to do this, you must specify 'dtype=object' when creating the ndarray.\n",
            "  \"\"\"\n",
            "/usr/local/lib/python3.7/dist-packages/ipykernel_launcher.py:6: VisibleDeprecationWarning: Creating an ndarray from ragged nested sequences (which is a list-or-tuple of lists-or-tuples-or ndarrays with different lengths or shapes) is deprecated. If you meant to do this, you must specify 'dtype=object' when creating the ndarray.\n",
            "  \n",
            "/usr/local/lib/python3.7/dist-packages/ipykernel_launcher.py:7: VisibleDeprecationWarning: Creating an ndarray from ragged nested sequences (which is a list-or-tuple of lists-or-tuples-or ndarrays with different lengths or shapes) is deprecated. If you meant to do this, you must specify 'dtype=object' when creating the ndarray.\n",
            "  import sys\n"
          ]
        }
      ]
    },
    {
      "cell_type": "code",
      "source": [
        "# having a quick look at the shapes of the arrays created above\n",
        "print(IDs_test.shape, test_Ns.shape, test_sentences.shape, test_tags.shape, test_os.shape, test_bs.shape, test_is.shape)"
      ],
      "metadata": {
        "colab": {
          "base_uri": "https://localhost:8080/"
        },
        "id": "YYaVNCUKs3rJ",
        "outputId": "380d18d5-eca9-40d1-a95b-d930db7b192b"
      },
      "execution_count": 31,
      "outputs": [
        {
          "output_type": "stream",
          "name": "stdout",
          "text": [
            "(351,) (2399,) (2399,) (2399,) (2399,) (2399,) (2399,)\n"
          ]
        }
      ]
    },
    {
      "cell_type": "code",
      "source": [
        "# For simplicity, we create a padded array beforehand\n",
        "test_sentences_padded = tf.keras.preprocessing.sequence.pad_sequences(test_sentences, padding='post')\n",
        "test_tags_padded = tf.keras.preprocessing.sequence.pad_sequences(test_tags, padding='post')\n",
        "# here we have 1 describing tags which are not o and 2 describing tags which are o. 0 represents padding\n",
        "test_os_padded = tf.keras.preprocessing.sequence.pad_sequences(test_os + 1, padding='post')\n",
        "test_bs_padded = tf.keras.preprocessing.sequence.pad_sequences(test_bs, padding='post')\n",
        "test_is_padded = tf.keras.preprocessing.sequence.pad_sequences(test_is, padding='post')"
      ],
      "metadata": {
        "id": "N3hBbAEz7k4R"
      },
      "execution_count": 32,
      "outputs": []
    },
    {
      "cell_type": "markdown",
      "source": [
        "### **Baseline model**"
      ],
      "metadata": {
        "id": "_4SZB8MJvtBX"
      }
    },
    {
      "cell_type": "code",
      "source": [
        "# defining a few variables for the baseline model\n",
        "hidden_size = 4\n",
        "vocab_size = len(tokenizer.word_counts)"
      ],
      "metadata": {
        "id": "v9iv97nCY2DM"
      },
      "execution_count": 33,
      "outputs": []
    },
    {
      "cell_type": "markdown",
      "source": [
        "Reference: Lab-2 solution, AI-3, Univ.AI"
      ],
      "metadata": {
        "id": "qeVCgOHrwA5P"
      }
    },
    {
      "cell_type": "code",
      "source": [
        "tf.keras.backend.clear_session()\n",
        "\n",
        "# defining the baseline model\n",
        "sentence_input1 = tf.keras.Input(shape=(None,), name='sentence_input')\n",
        "\n",
        "word_embedding = tf.keras.layers.Embedding(input_dim=vocab_size+1, output_dim=hidden_size, \n",
        "                    name='word_embedding', mask_zero=True)\n",
        "masked_embedding = word_embedding(sentence_input1)\n",
        "RNN = tf.keras.layers.SimpleRNN(hidden_size, return_sequences=True)\n",
        "hf_1 = RNN(masked_embedding)\n",
        "RNN_f = tf.keras.layers.SimpleRNN(hidden_size, return_sequences=True)\n",
        "hf = RNN_f(hf_1)\n",
        "dense = tf.keras.layers.Dense(tags['index'].shape[0]+1, activation='softmax', )\n",
        "output = dense(hf)\n",
        "\n",
        "model = tf.keras.Model(inputs=sentence_input1, outputs=output, name='simpleRNN')\n",
        "model.compile(loss='sparse_categorical_crossentropy', optimizer='adam', metrics = 'accuracy')"
      ],
      "metadata": {
        "id": "gYsISqhksmCK"
      },
      "execution_count": 34,
      "outputs": []
    },
    {
      "cell_type": "code",
      "source": [
        "# model structure\n",
        "tf.keras.utils.plot_model(model,show_shapes=True, show_dtype=True,show_layer_names=True,show_layer_activations=True)"
      ],
      "metadata": {
        "colab": {
          "base_uri": "https://localhost:8080/",
          "height": 686
        },
        "id": "1AbyQ7uNv0V1",
        "outputId": "bbcecff8-06e3-48bd-aecb-894cc7e7f2e7"
      },
      "execution_count": 35,
      "outputs": [
        {
          "output_type": "execute_result",
          "data": {
            "text/plain": [
              "<IPython.core.display.Image object>"
            ],
            "image/png": "[encoded data removed]"
          },
          "metadata": {},
          "execution_count": 35
        }
      ]
    },
    {
      "cell_type": "code",
      "source": [
        "# fitting the model\n",
        "mc = ModelCheckpoint('/content/drive/MyDrive/AI-3/project/baseline.h5', monitor='val_accuracy', mode='max', verbose=1, save_best_only=True)\n",
        "es = EarlyStopping(monitor='val_accuracy', verbose=1, patience=5)\n",
        "history = model.fit(train_sentences_padded, train_tags_padded, validation_split = 0.2, epochs=50,callbacks=[mc,es], batch_size=1024)"
      ],
      "metadata": {
        "colab": {
          "base_uri": "https://localhost:8080/"
        },
        "id": "nHATgHy8v4Zb",
        "outputId": "291712ce-5529-4f4f-d9ec-15e67823f183"
      },
      "execution_count": 36,
      "outputs": [
        {
          "output_type": "stream",
          "name": "stdout",
          "text": [
            "Epoch 1/50\n",
            "8/8 [==============================] - ETA: 0s - loss: 3.8488 - accuracy: 0.0090\n",
            "Epoch 1: val_accuracy improved from -inf to 0.01854, saving model to /content/drive/MyDrive/AI-3/project/baseline.h5\n",
            "8/8 [==============================] - 7s 217ms/step - loss: 3.8488 - accuracy: 0.0090 - val_loss: 3.8213 - val_accuracy: 0.0185\n",
            "Epoch 2/50\n",
            "8/8 [==============================] - ETA: 0s - loss: 3.8001 - accuracy: 0.0241\n",
            "Epoch 2: val_accuracy improved from 0.01854 to 0.02593, saving model to /content/drive/MyDrive/AI-3/project/baseline.h5\n",
            "8/8 [==============================] - 1s 144ms/step - loss: 3.8001 - accuracy: 0.0241 - val_loss: 3.7671 - val_accuracy: 0.0259\n",
            "Epoch 3/50\n",
            "8/8 [==============================] - ETA: 0s - loss: 3.7416 - accuracy: 0.0285\n",
            "Epoch 3: val_accuracy improved from 0.02593 to 0.02685, saving model to /content/drive/MyDrive/AI-3/project/baseline.h5\n",
            "8/8 [==============================] - 1s 147ms/step - loss: 3.7416 - accuracy: 0.0285 - val_loss: 3.7044 - val_accuracy: 0.0269\n",
            "Epoch 4/50\n",
            "8/8 [==============================] - ETA: 0s - loss: 3.6784 - accuracy: 0.0296\n",
            "Epoch 4: val_accuracy improved from 0.02685 to 0.02890, saving model to /content/drive/MyDrive/AI-3/project/baseline.h5\n",
            "8/8 [==============================] - 1s 143ms/step - loss: 3.6784 - accuracy: 0.0296 - val_loss: 3.6418 - val_accuracy: 0.0289\n",
            "Epoch 5/50\n",
            "8/8 [==============================] - ETA: 0s - loss: 3.6177 - accuracy: 0.0329\n",
            "Epoch 5: val_accuracy improved from 0.02890 to 0.03453, saving model to /content/drive/MyDrive/AI-3/project/baseline.h5\n",
            "8/8 [==============================] - 1s 146ms/step - loss: 3.6177 - accuracy: 0.0329 - val_loss: 3.5817 - val_accuracy: 0.0345\n",
            "Epoch 6/50\n",
            "8/8 [==============================] - ETA: 0s - loss: 3.5581 - accuracy: 0.0407\n",
            "Epoch 6: val_accuracy improved from 0.03453 to 0.04530, saving model to /content/drive/MyDrive/AI-3/project/baseline.h5\n",
            "8/8 [==============================] - 1s 143ms/step - loss: 3.5581 - accuracy: 0.0407 - val_loss: 3.5224 - val_accuracy: 0.0453\n",
            "Epoch 7/50\n",
            "8/8 [==============================] - ETA: 0s - loss: 3.4996 - accuracy: 0.0508\n",
            "Epoch 7: val_accuracy improved from 0.04530 to 0.05596, saving model to /content/drive/MyDrive/AI-3/project/baseline.h5\n",
            "8/8 [==============================] - 1s 144ms/step - loss: 3.4996 - accuracy: 0.0508 - val_loss: 3.4643 - val_accuracy: 0.0560\n",
            "Epoch 8/50\n",
            "8/8 [==============================] - ETA: 0s - loss: 3.4419 - accuracy: 0.0691\n",
            "Epoch 8: val_accuracy improved from 0.05596 to 0.07396, saving model to /content/drive/MyDrive/AI-3/project/baseline.h5\n",
            "8/8 [==============================] - 1s 149ms/step - loss: 3.4419 - accuracy: 0.0691 - val_loss: 3.4065 - val_accuracy: 0.0740\n",
            "Epoch 9/50\n",
            "8/8 [==============================] - ETA: 0s - loss: 3.3841 - accuracy: 0.1022\n",
            "Epoch 9: val_accuracy improved from 0.07396 to 0.35972, saving model to /content/drive/MyDrive/AI-3/project/baseline.h5\n",
            "8/8 [==============================] - 1s 150ms/step - loss: 3.3841 - accuracy: 0.1022 - val_loss: 3.3481 - val_accuracy: 0.3597\n",
            "Epoch 10/50\n",
            "8/8 [==============================] - ETA: 0s - loss: 3.3256 - accuracy: 0.5492\n",
            "Epoch 10: val_accuracy improved from 0.35972 to 0.65328, saving model to /content/drive/MyDrive/AI-3/project/baseline.h5\n",
            "8/8 [==============================] - 1s 148ms/step - loss: 3.3256 - accuracy: 0.5492 - val_loss: 3.2884 - val_accuracy: 0.6533\n",
            "Epoch 11/50\n",
            "8/8 [==============================] - ETA: 0s - loss: 3.2653 - accuracy: 0.6923\n",
            "Epoch 11: val_accuracy improved from 0.65328 to 0.71607, saving model to /content/drive/MyDrive/AI-3/project/baseline.h5\n",
            "8/8 [==============================] - 1s 151ms/step - loss: 3.2653 - accuracy: 0.6923 - val_loss: 3.2264 - val_accuracy: 0.7161\n",
            "Epoch 12/50\n",
            "8/8 [==============================] - ETA: 0s - loss: 3.2021 - accuracy: 0.7321\n",
            "Epoch 12: val_accuracy improved from 0.71607 to 0.75367, saving model to /content/drive/MyDrive/AI-3/project/baseline.h5\n",
            "8/8 [==============================] - 1s 140ms/step - loss: 3.2021 - accuracy: 0.7321 - val_loss: 3.1605 - val_accuracy: 0.7537\n",
            "Epoch 13/50\n",
            "8/8 [==============================] - ETA: 0s - loss: 3.1343 - accuracy: 0.7753\n",
            "Epoch 13: val_accuracy improved from 0.75367 to 0.82304, saving model to /content/drive/MyDrive/AI-3/project/baseline.h5\n",
            "8/8 [==============================] - 1s 156ms/step - loss: 3.1343 - accuracy: 0.7753 - val_loss: 3.0890 - val_accuracy: 0.8230\n",
            "Epoch 14/50\n",
            "8/8 [==============================] - ETA: 0s - loss: 3.0610 - accuracy: 0.8281\n",
            "Epoch 14: val_accuracy improved from 0.82304 to 0.83135, saving model to /content/drive/MyDrive/AI-3/project/baseline.h5\n",
            "8/8 [==============================] - 1s 144ms/step - loss: 3.0610 - accuracy: 0.8281 - val_loss: 3.0117 - val_accuracy: 0.8314\n",
            "Epoch 15/50\n",
            "8/8 [==============================] - ETA: 0s - loss: 2.9821 - accuracy: 0.8210\n",
            "Epoch 15: val_accuracy did not improve from 0.83135\n",
            "8/8 [==============================] - 1s 144ms/step - loss: 2.9821 - accuracy: 0.8210 - val_loss: 2.9298 - val_accuracy: 0.8310\n",
            "Epoch 16/50\n",
            "8/8 [==============================] - ETA: 0s - loss: 2.9001 - accuracy: 0.8208\n",
            "Epoch 16: val_accuracy did not improve from 0.83135\n",
            "8/8 [==============================] - 1s 150ms/step - loss: 2.9001 - accuracy: 0.8208 - val_loss: 2.8455 - val_accuracy: 0.8310\n",
            "Epoch 17/50\n",
            "8/8 [==============================] - ETA: 0s - loss: 2.8165 - accuracy: 0.8208\n",
            "Epoch 17: val_accuracy did not improve from 0.83135\n",
            "8/8 [==============================] - 1s 150ms/step - loss: 2.8165 - accuracy: 0.8208 - val_loss: 2.7614 - val_accuracy: 0.8310\n",
            "Epoch 18/50\n",
            "8/8 [==============================] - ETA: 0s - loss: 2.7339 - accuracy: 0.8208\n",
            "Epoch 18: val_accuracy did not improve from 0.83135\n",
            "8/8 [==============================] - 1s 145ms/step - loss: 2.7339 - accuracy: 0.8208 - val_loss: 2.6789 - val_accuracy: 0.8310\n",
            "Epoch 19/50\n",
            "8/8 [==============================] - ETA: 0s - loss: 2.6537 - accuracy: 0.8208\n",
            "Epoch 19: val_accuracy did not improve from 0.83135\n",
            "8/8 [==============================] - 1s 140ms/step - loss: 2.6537 - accuracy: 0.8208 - val_loss: 2.5991 - val_accuracy: 0.8310\n",
            "Epoch 19: early stopping\n"
          ]
        }
      ]
    },
    {
      "cell_type": "code",
      "source": [
        "import seaborn as sns\n",
        "sns.set()\n",
        "# accuracy\n",
        "fig = plt.figure(figsize=(10,6))\n",
        "plt.plot(history.history['accuracy'])\n",
        "plt.plot(history.history['val_accuracy'])\n",
        "plt.title('Baseline model accuracy', fontsize=18)\n",
        "plt.ylabel('Accuracy', fontsize=15)\n",
        "plt.xlabel('epoch', fontsize=15)\n",
        "plt.legend(['train', 'validation'], loc='upper right')\n",
        "plt.show()"
      ],
      "metadata": {
        "colab": {
          "base_uri": "https://localhost:8080/",
          "height": 416
        },
        "id": "lCiLdnpt3bSF",
        "outputId": "3aa7245b-f100-45c2-885a-98c1b1f316bd"
      },
      "execution_count": 37,
      "outputs": [
        {
          "output_type": "display_data",
          "data": {
            "text/plain": [
              "<Figure size 720x432 with 1 Axes>"
            ],
            "image/png": "[encoded data removed]"
          },
          "metadata": {}
        }
      ]
    },
    {
      "cell_type": "code",
      "source": [
        "# predicting on the test data\n",
        "preds = model.predict(test_sentences_padded)"
      ],
      "metadata": {
        "id": "ofUTgBY70tc5"
      },
      "execution_count": 38,
      "outputs": []
    },
    {
      "cell_type": "code",
      "source": [
        "# using argmax to find the predictions\n",
        "rec = []\n",
        "for record in preds:\n",
        "  word = []\n",
        "  for words in record:\n",
        "    word.append(np.argmax(np.array(words)))\n",
        "  rec.append(word)"
      ],
      "metadata": {
        "id": "XInQZYqedIjR"
      },
      "execution_count": 39,
      "outputs": []
    },
    {
      "cell_type": "code",
      "source": [
        "rec = np.array(rec)"
      ],
      "metadata": {
        "id": "a3DwMJ8ObcMa"
      },
      "execution_count": 40,
      "outputs": []
    },
    {
      "cell_type": "code",
      "source": [
        "unique, counts = np.unique(rec, return_counts=True)\n",
        "\n",
        "from prettytable import PrettyTable\n",
        "columns=['Predictions','Tag', 'Count']\n",
        "mytable = PrettyTable()\n",
        "mytable.add_column(columns[0], unique)\n",
        "mytable.add_column(columns[1], tags.iloc[unique-1]['index'].values)\n",
        "mytable.add_column(columns[2], counts)\n",
        "\n",
        "print(mytable)"
      ],
      "metadata": {
        "colab": {
          "base_uri": "https://localhost:8080/"
        },
        "id": "tzrLyEWryKBH",
        "outputId": "4bf562c3-8ecb-4fc3-ecfb-c2c332ac2391"
      },
      "execution_count": 41,
      "outputs": [
        {
          "output_type": "stream",
          "name": "stdout",
          "text": [
            "+-------------+-----+--------+\n",
            "| Predictions | Tag | Count  |\n",
            "+-------------+-----+--------+\n",
            "|      63     |  O  | 119950 |\n",
            "+-------------+-----+--------+\n"
          ]
        }
      ]
    },
    {
      "cell_type": "markdown",
      "source": [
        "**From the above cell, we can see that almost all the predictions are 'O'. That's why the validation accuracy is fixed at around 83%. This is due to the imbalance in the dataset, around 83% in the validation set and 82% in the training set are \"O\"s. So, although the accuracy looks good enough, it's a very biased model. We ran this model many times, but the results didn't vary much.**"
      ],
      "metadata": {
        "id": "IIpPiQ_zwaSl"
      }
    },
    {
      "cell_type": "markdown",
      "source": [
        "### **ELMO Model**"
      ],
      "metadata": {
        "id": "DHcQYlrt3Awm"
      }
    },
    {
      "cell_type": "code",
      "source": [
        "# Reference for ELMO: https://medium.com/analytics-vidhya/named-entity-recognition-using-deep-learning-elmo-embedding-bi-lstm-48295bc66cab\n",
        "tf.keras.backend.clear_session()\n",
        "\n",
        "# elmo model\n",
        "sentence_input1 = tf.keras.Input(shape=(None,), name='sentence_input')\n",
        "\n",
        "word_embedding = tf.keras.layers.Embedding(input_dim=vocab_size+1, output_dim=30, \n",
        "                    name='word_embedding', mask_zero=True)\n",
        "masked_embedding = word_embedding(sentence_input1)\n",
        "\n",
        "lstm1 = tf.keras.layers.Bidirectional(tf.keras.layers.LSTM(units=128, return_sequences=True))\n",
        "hf_1 = lstm1(masked_embedding)\n",
        "\n",
        "lstm2 = tf.keras.layers.Bidirectional(tf.keras.layers.LSTM(units=128, return_sequences=True))\n",
        "hf = lstm2(hf_1)\n",
        "\n",
        "hf_z = tf.keras.layers.add([hf, hf_1])\n",
        "\n",
        "dense = tf.keras.layers.Dense(tags['index'].shape[0]+1, activation='softmax')\n",
        "output = dense(hf_z)\n",
        "\n",
        "model_2 = tf.keras.Model(inputs=sentence_input1, outputs=output, name='simpleRNN')\n",
        "model_2.compile(loss='sparse_categorical_crossentropy', optimizer='adam', metrics = 'accuracy')"
      ],
      "metadata": {
        "id": "rTRm_ABfwZZQ"
      },
      "execution_count": 42,
      "outputs": []
    },
    {
      "cell_type": "code",
      "source": [
        "tf.keras.utils.plot_model(model_2,show_shapes=True, show_dtype=True,show_layer_names=True,show_layer_activations=True)"
      ],
      "metadata": {
        "colab": {
          "base_uri": "https://localhost:8080/",
          "height": 828
        },
        "id": "TuasEYiFql6V",
        "outputId": "c9007929-8262-4120-873d-795176c8d676"
      },
      "execution_count": 43,
      "outputs": [
        {
          "output_type": "execute_result",
          "data": {
            "text/plain": [
              "<IPython.core.display.Image object>"
            ],
            "image/png": "[encoded data removed]"
          },
          "metadata": {},
          "execution_count": 43
        }
      ]
    },
    {
      "cell_type": "code",
      "source": [
        "# fitting the model\n",
        "mc = ModelCheckpoint('/content/drive/MyDrive/AI-3/project/elmo.h5', monitor='val_accuracy', mode='max', verbose=1, save_best_only=True)\n",
        "es = EarlyStopping(monitor='val_accuracy', verbose=1, patience=15)\n",
        "history2 = model_2.fit(train_sentences_padded, train_tags_padded, validation_split = 0.2, epochs=50,callbacks=[mc,es], batch_size=1024)"
      ],
      "metadata": {
        "colab": {
          "base_uri": "https://localhost:8080/"
        },
        "id": "SnwCp-8ZsjbX",
        "outputId": "70831a3a-08f9-4b23-de61-f9d6ec700c90"
      },
      "execution_count": 44,
      "outputs": [
        {
          "output_type": "stream",
          "name": "stdout",
          "text": [
            "Epoch 1/50\n",
            "8/8 [==============================] - ETA: 0s - loss: 3.4655 - accuracy: 0.7174\n",
            "Epoch 1: val_accuracy improved from -inf to 0.83103, saving model to /content/drive/MyDrive/AI-3/project/elmo.h5\n",
            "8/8 [==============================] - 21s 763ms/step - loss: 3.4655 - accuracy: 0.7174 - val_loss: 1.2887 - val_accuracy: 0.8310\n",
            "Epoch 2/50\n",
            "8/8 [==============================] - ETA: 0s - loss: 1.3639 - accuracy: 0.8208\n",
            "Epoch 2: val_accuracy did not improve from 0.83103\n",
            "8/8 [==============================] - 1s 111ms/step - loss: 1.3639 - accuracy: 0.8208 - val_loss: 1.0470 - val_accuracy: 0.8310\n",
            "Epoch 3/50\n",
            "8/8 [==============================] - ETA: 0s - loss: 1.0718 - accuracy: 0.8208\n",
            "Epoch 3: val_accuracy did not improve from 0.83103\n",
            "8/8 [==============================] - 1s 110ms/step - loss: 1.0718 - accuracy: 0.8208 - val_loss: 1.0498 - val_accuracy: 0.8310\n",
            "Epoch 4/50\n",
            "8/8 [==============================] - ETA: 0s - loss: 1.0246 - accuracy: 0.8208\n",
            "Epoch 4: val_accuracy did not improve from 0.83103\n",
            "8/8 [==============================] - 1s 110ms/step - loss: 1.0246 - accuracy: 0.8208 - val_loss: 0.9567 - val_accuracy: 0.8310\n",
            "Epoch 5/50\n",
            "8/8 [==============================] - ETA: 0s - loss: 0.9930 - accuracy: 0.8208\n",
            "Epoch 5: val_accuracy did not improve from 0.83103\n",
            "8/8 [==============================] - 1s 111ms/step - loss: 0.9930 - accuracy: 0.8208 - val_loss: 0.9430 - val_accuracy: 0.8310\n",
            "Epoch 6/50\n",
            "8/8 [==============================] - ETA: 0s - loss: 0.9700 - accuracy: 0.8208\n",
            "Epoch 6: val_accuracy did not improve from 0.83103\n",
            "8/8 [==============================] - 1s 112ms/step - loss: 0.9700 - accuracy: 0.8208 - val_loss: 0.9319 - val_accuracy: 0.8310\n",
            "Epoch 7/50\n",
            "8/8 [==============================] - ETA: 0s - loss: 0.9529 - accuracy: 0.8208\n",
            "Epoch 7: val_accuracy did not improve from 0.83103\n",
            "8/8 [==============================] - 1s 110ms/step - loss: 0.9529 - accuracy: 0.8208 - val_loss: 0.9072 - val_accuracy: 0.8310\n",
            "Epoch 8/50\n",
            "8/8 [==============================] - ETA: 0s - loss: 0.9309 - accuracy: 0.8208\n",
            "Epoch 8: val_accuracy did not improve from 0.83103\n",
            "8/8 [==============================] - 1s 111ms/step - loss: 0.9309 - accuracy: 0.8208 - val_loss: 0.8912 - val_accuracy: 0.8310\n",
            "Epoch 9/50\n",
            "8/8 [==============================] - ETA: 0s - loss: 0.9051 - accuracy: 0.8207\n",
            "Epoch 9: val_accuracy improved from 0.83103 to 0.83104, saving model to /content/drive/MyDrive/AI-3/project/elmo.h5\n",
            "8/8 [==============================] - 1s 123ms/step - loss: 0.9051 - accuracy: 0.8207 - val_loss: 0.8582 - val_accuracy: 0.8310\n",
            "Epoch 10/50\n",
            "8/8 [==============================] - ETA: 0s - loss: 0.8694 - accuracy: 0.8208\n",
            "Epoch 10: val_accuracy did not improve from 0.83104\n",
            "8/8 [==============================] - 1s 110ms/step - loss: 0.8694 - accuracy: 0.8208 - val_loss: 0.8297 - val_accuracy: 0.8309\n",
            "Epoch 11/50\n",
            "8/8 [==============================] - ETA: 0s - loss: 0.8489 - accuracy: 0.8208\n",
            "Epoch 11: val_accuracy did not improve from 0.83104\n",
            "8/8 [==============================] - 1s 110ms/step - loss: 0.8489 - accuracy: 0.8208 - val_loss: 0.8117 - val_accuracy: 0.8310\n",
            "Epoch 12/50\n",
            "8/8 [==============================] - ETA: 0s - loss: 0.8267 - accuracy: 0.8208\n",
            "Epoch 12: val_accuracy did not improve from 0.83104\n",
            "8/8 [==============================] - 1s 113ms/step - loss: 0.8267 - accuracy: 0.8208 - val_loss: 0.7936 - val_accuracy: 0.8310\n",
            "Epoch 13/50\n",
            "8/8 [==============================] - ETA: 0s - loss: 0.8037 - accuracy: 0.8209\n",
            "Epoch 13: val_accuracy improved from 0.83104 to 0.83135, saving model to /content/drive/MyDrive/AI-3/project/elmo.h5\n",
            "8/8 [==============================] - 1s 124ms/step - loss: 0.8037 - accuracy: 0.8209 - val_loss: 0.7711 - val_accuracy: 0.8314\n",
            "Epoch 14/50\n",
            "8/8 [==============================] - ETA: 0s - loss: 0.7760 - accuracy: 0.8219\n",
            "Epoch 14: val_accuracy improved from 0.83135 to 0.83274, saving model to /content/drive/MyDrive/AI-3/project/elmo.h5\n",
            "8/8 [==============================] - 1s 123ms/step - loss: 0.7760 - accuracy: 0.8219 - val_loss: 0.7445 - val_accuracy: 0.8327\n",
            "Epoch 15/50\n",
            "8/8 [==============================] - ETA: 0s - loss: 0.7452 - accuracy: 0.8235\n",
            "Epoch 15: val_accuracy improved from 0.83274 to 0.83400, saving model to /content/drive/MyDrive/AI-3/project/elmo.h5\n",
            "8/8 [==============================] - 1s 124ms/step - loss: 0.7452 - accuracy: 0.8235 - val_loss: 0.7159 - val_accuracy: 0.8340\n",
            "Epoch 16/50\n",
            "8/8 [==============================] - ETA: 0s - loss: 0.7070 - accuracy: 0.8261\n",
            "Epoch 16: val_accuracy improved from 0.83400 to 0.83774, saving model to /content/drive/MyDrive/AI-3/project/elmo.h5\n",
            "8/8 [==============================] - 1s 122ms/step - loss: 0.7070 - accuracy: 0.8261 - val_loss: 0.6849 - val_accuracy: 0.8377\n",
            "Epoch 17/50\n",
            "8/8 [==============================] - ETA: 0s - loss: 0.6671 - accuracy: 0.8347\n",
            "Epoch 17: val_accuracy improved from 0.83774 to 0.84636, saving model to /content/drive/MyDrive/AI-3/project/elmo.h5\n",
            "8/8 [==============================] - 1s 121ms/step - loss: 0.6671 - accuracy: 0.8347 - val_loss: 0.6530 - val_accuracy: 0.8464\n",
            "Epoch 18/50\n",
            "8/8 [==============================] - ETA: 0s - loss: 0.6275 - accuracy: 0.8444\n",
            "Epoch 18: val_accuracy improved from 0.84636 to 0.85275, saving model to /content/drive/MyDrive/AI-3/project/elmo.h5\n",
            "8/8 [==============================] - 1s 121ms/step - loss: 0.6275 - accuracy: 0.8444 - val_loss: 0.6217 - val_accuracy: 0.8527\n",
            "Epoch 19/50\n",
            "8/8 [==============================] - ETA: 0s - loss: 0.5895 - accuracy: 0.8526\n",
            "Epoch 19: val_accuracy improved from 0.85275 to 0.85738, saving model to /content/drive/MyDrive/AI-3/project/elmo.h5\n",
            "8/8 [==============================] - 1s 123ms/step - loss: 0.5895 - accuracy: 0.8526 - val_loss: 0.5969 - val_accuracy: 0.8574\n",
            "Epoch 20/50\n",
            "8/8 [==============================] - ETA: 0s - loss: 0.5538 - accuracy: 0.8579\n",
            "Epoch 20: val_accuracy improved from 0.85738 to 0.86210, saving model to /content/drive/MyDrive/AI-3/project/elmo.h5\n",
            "8/8 [==============================] - 1s 122ms/step - loss: 0.5538 - accuracy: 0.8579 - val_loss: 0.5694 - val_accuracy: 0.8621\n",
            "Epoch 21/50\n",
            "8/8 [==============================] - ETA: 0s - loss: 0.5197 - accuracy: 0.8633\n",
            "Epoch 21: val_accuracy improved from 0.86210 to 0.86451, saving model to /content/drive/MyDrive/AI-3/project/elmo.h5\n",
            "8/8 [==============================] - 1s 123ms/step - loss: 0.5197 - accuracy: 0.8633 - val_loss: 0.5529 - val_accuracy: 0.8645\n",
            "Epoch 22/50\n",
            "8/8 [==============================] - ETA: 0s - loss: 0.4899 - accuracy: 0.8683\n",
            "Epoch 22: val_accuracy improved from 0.86451 to 0.86739, saving model to /content/drive/MyDrive/AI-3/project/elmo.h5\n",
            "8/8 [==============================] - 1s 122ms/step - loss: 0.4899 - accuracy: 0.8683 - val_loss: 0.5461 - val_accuracy: 0.8674\n",
            "Epoch 23/50\n",
            "8/8 [==============================] - ETA: 0s - loss: 0.4672 - accuracy: 0.8732\n",
            "Epoch 23: val_accuracy improved from 0.86739 to 0.87302, saving model to /content/drive/MyDrive/AI-3/project/elmo.h5\n",
            "8/8 [==============================] - 1s 123ms/step - loss: 0.4672 - accuracy: 0.8732 - val_loss: 0.5170 - val_accuracy: 0.8730\n",
            "Epoch 24/50\n",
            "8/8 [==============================] - ETA: 0s - loss: 0.4445 - accuracy: 0.8792\n",
            "Epoch 24: val_accuracy improved from 0.87302 to 0.87765, saving model to /content/drive/MyDrive/AI-3/project/elmo.h5\n",
            "8/8 [==============================] - 1s 123ms/step - loss: 0.4445 - accuracy: 0.8792 - val_loss: 0.5031 - val_accuracy: 0.8776\n",
            "Epoch 25/50\n",
            "8/8 [==============================] - ETA: 0s - loss: 0.4245 - accuracy: 0.8849\n",
            "Epoch 25: val_accuracy improved from 0.87765 to 0.87934, saving model to /content/drive/MyDrive/AI-3/project/elmo.h5\n",
            "8/8 [==============================] - 1s 123ms/step - loss: 0.4245 - accuracy: 0.8849 - val_loss: 0.4958 - val_accuracy: 0.8793\n",
            "Epoch 26/50\n",
            "8/8 [==============================] - ETA: 0s - loss: 0.4072 - accuracy: 0.8902\n",
            "Epoch 26: val_accuracy improved from 0.87934 to 0.88190, saving model to /content/drive/MyDrive/AI-3/project/elmo.h5\n",
            "8/8 [==============================] - 1s 121ms/step - loss: 0.4072 - accuracy: 0.8902 - val_loss: 0.4859 - val_accuracy: 0.8819\n",
            "Epoch 27/50\n",
            "8/8 [==============================] - ETA: 0s - loss: 0.3912 - accuracy: 0.8939\n",
            "Epoch 27: val_accuracy improved from 0.88190 to 0.88425, saving model to /content/drive/MyDrive/AI-3/project/elmo.h5\n",
            "8/8 [==============================] - 1s 124ms/step - loss: 0.3912 - accuracy: 0.8939 - val_loss: 0.4753 - val_accuracy: 0.8843\n",
            "Epoch 28/50\n",
            "8/8 [==============================] - ETA: 0s - loss: 0.3766 - accuracy: 0.8975\n",
            "Epoch 28: val_accuracy improved from 0.88425 to 0.88623, saving model to /content/drive/MyDrive/AI-3/project/elmo.h5\n",
            "8/8 [==============================] - 1s 123ms/step - loss: 0.3766 - accuracy: 0.8975 - val_loss: 0.4704 - val_accuracy: 0.8862\n",
            "Epoch 29/50\n",
            "8/8 [==============================] - ETA: 0s - loss: 0.3645 - accuracy: 0.9005\n",
            "Epoch 29: val_accuracy improved from 0.88623 to 0.88784, saving model to /content/drive/MyDrive/AI-3/project/elmo.h5\n",
            "8/8 [==============================] - 1s 123ms/step - loss: 0.3645 - accuracy: 0.9005 - val_loss: 0.4594 - val_accuracy: 0.8878\n",
            "Epoch 30/50\n",
            "8/8 [==============================] - ETA: 0s - loss: 0.3544 - accuracy: 0.9032\n",
            "Epoch 30: val_accuracy did not improve from 0.88784\n",
            "8/8 [==============================] - 1s 116ms/step - loss: 0.3544 - accuracy: 0.9032 - val_loss: 0.4705 - val_accuracy: 0.8878\n",
            "Epoch 31/50\n",
            "8/8 [==============================] - ETA: 0s - loss: 0.3416 - accuracy: 0.9063\n",
            "Epoch 31: val_accuracy improved from 0.88784 to 0.89090, saving model to /content/drive/MyDrive/AI-3/project/elmo.h5\n",
            "8/8 [==============================] - 1s 124ms/step - loss: 0.3416 - accuracy: 0.9063 - val_loss: 0.4505 - val_accuracy: 0.8909\n",
            "Epoch 32/50\n",
            "8/8 [==============================] - ETA: 0s - loss: 0.3340 - accuracy: 0.9079\n",
            "Epoch 32: val_accuracy did not improve from 0.89090\n",
            "8/8 [==============================] - 1s 112ms/step - loss: 0.3340 - accuracy: 0.9079 - val_loss: 0.4466 - val_accuracy: 0.8888\n",
            "Epoch 33/50\n",
            "8/8 [==============================] - ETA: 0s - loss: 0.3244 - accuracy: 0.9099\n",
            "Epoch 33: val_accuracy improved from 0.89090 to 0.89373, saving model to /content/drive/MyDrive/AI-3/project/elmo.h5\n",
            "8/8 [==============================] - 1s 125ms/step - loss: 0.3244 - accuracy: 0.9099 - val_loss: 0.4412 - val_accuracy: 0.8937\n",
            "Epoch 34/50\n",
            "8/8 [==============================] - ETA: 0s - loss: 0.3108 - accuracy: 0.9140\n",
            "Epoch 34: val_accuracy improved from 0.89373 to 0.89417, saving model to /content/drive/MyDrive/AI-3/project/elmo.h5\n",
            "8/8 [==============================] - 1s 124ms/step - loss: 0.3108 - accuracy: 0.9140 - val_loss: 0.4451 - val_accuracy: 0.8942\n",
            "Epoch 35/50\n",
            "8/8 [==============================] - ETA: 0s - loss: 0.3007 - accuracy: 0.9162\n",
            "Epoch 35: val_accuracy improved from 0.89417 to 0.89529, saving model to /content/drive/MyDrive/AI-3/project/elmo.h5\n",
            "8/8 [==============================] - 1s 124ms/step - loss: 0.3007 - accuracy: 0.9162 - val_loss: 0.4334 - val_accuracy: 0.8953\n",
            "Epoch 36/50\n",
            "8/8 [==============================] - ETA: 0s - loss: 0.2916 - accuracy: 0.9185\n",
            "Epoch 36: val_accuracy improved from 0.89529 to 0.89630, saving model to /content/drive/MyDrive/AI-3/project/elmo.h5\n",
            "8/8 [==============================] - 1s 124ms/step - loss: 0.2916 - accuracy: 0.9185 - val_loss: 0.4263 - val_accuracy: 0.8963\n",
            "Epoch 37/50\n",
            "8/8 [==============================] - ETA: 0s - loss: 0.2837 - accuracy: 0.9202\n",
            "Epoch 37: val_accuracy improved from 0.89630 to 0.89778, saving model to /content/drive/MyDrive/AI-3/project/elmo.h5\n",
            "8/8 [==============================] - 1s 124ms/step - loss: 0.2837 - accuracy: 0.9202 - val_loss: 0.4237 - val_accuracy: 0.8978\n",
            "Epoch 38/50\n",
            "8/8 [==============================] - ETA: 0s - loss: 0.2734 - accuracy: 0.9225\n",
            "Epoch 38: val_accuracy improved from 0.89778 to 0.89866, saving model to /content/drive/MyDrive/AI-3/project/elmo.h5\n",
            "8/8 [==============================] - 1s 123ms/step - loss: 0.2734 - accuracy: 0.9225 - val_loss: 0.4229 - val_accuracy: 0.8987\n",
            "Epoch 39/50\n",
            "8/8 [==============================] - ETA: 0s - loss: 0.2651 - accuracy: 0.9248\n",
            "Epoch 39: val_accuracy did not improve from 0.89866\n",
            "8/8 [==============================] - 1s 114ms/step - loss: 0.2651 - accuracy: 0.9248 - val_loss: 0.4367 - val_accuracy: 0.8980\n",
            "Epoch 40/50\n",
            "8/8 [==============================] - ETA: 0s - loss: 0.2612 - accuracy: 0.9253\n",
            "Epoch 40: val_accuracy improved from 0.89866 to 0.90094, saving model to /content/drive/MyDrive/AI-3/project/elmo.h5\n",
            "8/8 [==============================] - 1s 124ms/step - loss: 0.2612 - accuracy: 0.9253 - val_loss: 0.4138 - val_accuracy: 0.9009\n",
            "Epoch 41/50\n",
            "8/8 [==============================] - ETA: 0s - loss: 0.2560 - accuracy: 0.9267\n",
            "Epoch 41: val_accuracy did not improve from 0.90094\n",
            "8/8 [==============================] - 1s 114ms/step - loss: 0.2560 - accuracy: 0.9267 - val_loss: 0.4253 - val_accuracy: 0.8999\n",
            "Epoch 42/50\n",
            "8/8 [==============================] - ETA: 0s - loss: 0.2468 - accuracy: 0.9289\n",
            "Epoch 42: val_accuracy improved from 0.90094 to 0.90188, saving model to /content/drive/MyDrive/AI-3/project/elmo.h5\n",
            "8/8 [==============================] - 1s 124ms/step - loss: 0.2468 - accuracy: 0.9289 - val_loss: 0.4156 - val_accuracy: 0.9019\n",
            "Epoch 43/50\n",
            "8/8 [==============================] - ETA: 0s - loss: 0.2376 - accuracy: 0.9313\n",
            "Epoch 43: val_accuracy improved from 0.90188 to 0.90296, saving model to /content/drive/MyDrive/AI-3/project/elmo.h5\n",
            "8/8 [==============================] - 1s 126ms/step - loss: 0.2376 - accuracy: 0.9313 - val_loss: 0.4120 - val_accuracy: 0.9030\n",
            "Epoch 44/50\n",
            "8/8 [==============================] - ETA: 0s - loss: 0.2299 - accuracy: 0.9334\n",
            "Epoch 44: val_accuracy improved from 0.90296 to 0.90425, saving model to /content/drive/MyDrive/AI-3/project/elmo.h5\n",
            "8/8 [==============================] - 1s 125ms/step - loss: 0.2299 - accuracy: 0.9334 - val_loss: 0.4057 - val_accuracy: 0.9042\n",
            "Epoch 45/50\n",
            "8/8 [==============================] - ETA: 0s - loss: 0.2221 - accuracy: 0.9356\n",
            "Epoch 45: val_accuracy did not improve from 0.90425\n",
            "8/8 [==============================] - 1s 114ms/step - loss: 0.2221 - accuracy: 0.9356 - val_loss: 0.4100 - val_accuracy: 0.9038\n",
            "Epoch 46/50\n",
            "8/8 [==============================] - ETA: 0s - loss: 0.2150 - accuracy: 0.9376\n",
            "Epoch 46: val_accuracy did not improve from 0.90425\n",
            "8/8 [==============================] - 1s 116ms/step - loss: 0.2150 - accuracy: 0.9376 - val_loss: 0.4110 - val_accuracy: 0.9042\n",
            "Epoch 47/50\n",
            "8/8 [==============================] - ETA: 0s - loss: 0.2088 - accuracy: 0.9393\n",
            "Epoch 47: val_accuracy improved from 0.90425 to 0.90497, saving model to /content/drive/MyDrive/AI-3/project/elmo.h5\n",
            "8/8 [==============================] - 1s 127ms/step - loss: 0.2088 - accuracy: 0.9393 - val_loss: 0.4109 - val_accuracy: 0.9050\n",
            "Epoch 48/50\n",
            "8/8 [==============================] - ETA: 0s - loss: 0.2038 - accuracy: 0.9405\n",
            "Epoch 48: val_accuracy improved from 0.90497 to 0.90628, saving model to /content/drive/MyDrive/AI-3/project/elmo.h5\n",
            "8/8 [==============================] - 1s 127ms/step - loss: 0.2038 - accuracy: 0.9405 - val_loss: 0.3991 - val_accuracy: 0.9063\n",
            "Epoch 49/50\n",
            "8/8 [==============================] - ETA: 0s - loss: 0.1972 - accuracy: 0.9428\n",
            "Epoch 49: val_accuracy improved from 0.90628 to 0.90658, saving model to /content/drive/MyDrive/AI-3/project/elmo.h5\n",
            "8/8 [==============================] - 1s 126ms/step - loss: 0.1972 - accuracy: 0.9428 - val_loss: 0.4041 - val_accuracy: 0.9066\n",
            "Epoch 50/50\n",
            "8/8 [==============================] - ETA: 0s - loss: 0.1933 - accuracy: 0.9438\n",
            "Epoch 50: val_accuracy improved from 0.90658 to 0.90767, saving model to /content/drive/MyDrive/AI-3/project/elmo.h5\n",
            "8/8 [==============================] - 1s 126ms/step - loss: 0.1933 - accuracy: 0.9438 - val_loss: 0.4019 - val_accuracy: 0.9077\n"
          ]
        }
      ]
    },
    {
      "cell_type": "code",
      "source": [
        "# accuracy\n",
        "fig = plt.figure(figsize=(10,6))\n",
        "plt.plot(history2.history['accuracy'])\n",
        "plt.plot(history2.history['val_accuracy'])\n",
        "plt.title('ELMO model accuracy', fontsize=18)\n",
        "plt.ylabel('Accuracy', fontsize=15)\n",
        "plt.xlabel('epoch', fontsize=15)\n",
        "plt.legend(['train', 'validation'], loc='upper right')\n",
        "plt.show()"
      ],
      "metadata": {
        "colab": {
          "base_uri": "https://localhost:8080/",
          "height": 416
        },
        "id": "zI6KQoio4J_w",
        "outputId": "1d06dc58-77b0-4187-ecef-0330ca616e51"
      },
      "execution_count": 45,
      "outputs": [
        {
          "output_type": "display_data",
          "data": {
            "text/plain": [
              "<Figure size 720x432 with 1 Axes>"
            ],
            "image/png": "[encoded data removed]"
          },
          "metadata": {}
        }
      ]
    },
    {
      "cell_type": "code",
      "source": [
        "# predicting on the test data\n",
        "preds_elmo = model_2.predict(test_sentences_padded)"
      ],
      "metadata": {
        "id": "_EralkhS44jP"
      },
      "execution_count": 46,
      "outputs": []
    },
    {
      "cell_type": "code",
      "source": [
        "# using argmax to find the predictions\n",
        "rec = []\n",
        "for record in preds_elmo:\n",
        "  word = []\n",
        "  for words in record:\n",
        "    word.append(np.argmax(np.array(words)))\n",
        "  rec.append(word)"
      ],
      "metadata": {
        "id": "AyifQP5744jQ"
      },
      "execution_count": 47,
      "outputs": []
    },
    {
      "cell_type": "code",
      "source": [
        "rec = np.array(rec)"
      ],
      "metadata": {
        "id": "xFLfg6o344jQ"
      },
      "execution_count": 48,
      "outputs": []
    },
    {
      "cell_type": "code",
      "source": [
        "tags.columns"
      ],
      "metadata": {
        "colab": {
          "base_uri": "https://localhost:8080/"
        },
        "outputId": "f5d7c86f-163a-4883-b0e1-398dcb84f3f4",
        "id": "58X_1ztN44jQ"
      },
      "execution_count": 49,
      "outputs": [
        {
          "output_type": "execute_result",
          "data": {
            "text/plain": [
              "Index(['index', 0], dtype='object')"
            ]
          },
          "metadata": {},
          "execution_count": 49
        }
      ]
    },
    {
      "cell_type": "code",
      "source": [
        "unique, counts = np.unique(rec, return_counts=True)\n",
        "\n",
        "from prettytable import PrettyTable\n",
        "columns=['Predictions','Tag', 'Count']\n",
        "mytable = PrettyTable()\n",
        "mytable.add_column(columns[0], unique)\n",
        "mytable.add_column(columns[1], tags.iloc[unique-1]['index'].values)\n",
        "mytable.add_column(columns[2], counts)\n",
        "\n",
        "print(mytable)"
      ],
      "metadata": {
        "colab": {
          "base_uri": "https://localhost:8080/"
        },
        "outputId": "30171f59-2317-4759-8841-1a0f8b8e4955",
        "id": "vw4SGYej44jQ"
      },
      "execution_count": 50,
      "outputs": [
        {
          "output_type": "stream",
          "name": "stdout",
          "text": [
            "+-------------+---------------------+-------+\n",
            "| Predictions |         Tag         | Count |\n",
            "+-------------+---------------------+-------+\n",
            "|      2      |  B-CelestialObject  |  422  |\n",
            "|      5      |      B-Citation     |  1146 |\n",
            "|      7      | B-ComputingFacility |   2   |\n",
            "|      8      |      B-Database     |   1   |\n",
            "|      9      |      B-Dataset      |   5   |\n",
            "|      12     |     B-Fellowship    |   10  |\n",
            "|      13     |      B-Formula      |  223  |\n",
            "|      14     |       B-Grant       |  195  |\n",
            "|      16     |     B-Instrument    |   1   |\n",
            "|      17     |      B-Location     |   14  |\n",
            "|      19     |       B-Model       |  234  |\n",
            "|      21     |    B-Observatory    |   69  |\n",
            "|      22     |    B-Organization   |  1235 |\n",
            "|      23     |       B-Person      |  437  |\n",
            "|      25     |      B-Software     |   64  |\n",
            "|      26     |       B-Survey      |   20  |\n",
            "|      28     |     B-Telescope     |  105  |\n",
            "|      30     |        B-URL        |   1   |\n",
            "|      31     |     B-Wavelength    |  346  |\n",
            "|      32     |      I-Archive      |   25  |\n",
            "|      33     |  I-CelestialObject  |  146  |\n",
            "|      36     |      I-Citation     |  3775 |\n",
            "|      37     |   I-Collaboration   |   24  |\n",
            "|      38     | I-ComputingFacility |   27  |\n",
            "|      40     |      I-Dataset      |   2   |\n",
            "|      43     |     I-Fellowship    |   75  |\n",
            "|      44     |      I-Formula      |  1288 |\n",
            "|      45     |       I-Grant       |  232  |\n",
            "|      48     |      I-Location     |   4   |\n",
            "|      50     |       I-Model       |   31  |\n",
            "|      52     |    I-Observatory    |  209  |\n",
            "|      53     |    I-Organization   | 11751 |\n",
            "|      54     |       I-Person      |  185  |\n",
            "|      56     |      I-Software     |   9   |\n",
            "|      57     |       I-Survey      |   26  |\n",
            "|      59     |     I-Telescope     |   58  |\n",
            "|      62     |     I-Wavelength    |  119  |\n",
            "|      63     |          O          | 97434 |\n",
            "+-------------+---------------------+-------+\n"
          ]
        }
      ]
    },
    {
      "cell_type": "markdown",
      "source": [
        "**From the above cell, we can see that this model works much better than the baseline model. It actually learns to predict rather than giving 'O' as output most of the time. The validation accuracy reaches around 90% in 50 epochs, and it follows the training accuracy upto a certain limit pretty well.**"
      ],
      "metadata": {
        "id": "Bh5ropuz7-Li"
      }
    }
  ]
}
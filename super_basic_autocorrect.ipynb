{
  "cells": [
    {
      "cell_type": "markdown",
      "metadata": {
        "id": "f7ptxhvGIEML"
      },
      "source": [
        "### Necessary imports"
      ]
    },
    {
      "cell_type": "code",
      "execution_count": null,
      "metadata": {
        "id": "o8kxB7jUIRJY",
        "colab": {
          "base_uri": "https://localhost:8080/"
        },
        "outputId": "54bd3257-aab9-4b82-e9a1-b904a3598d9c"
      },
      "outputs": [
        {
          "output_type": "stream",
          "name": "stdout",
          "text": [
            "Looking in indexes: https://pypi.org/simple, https://us-python.pkg.dev/colab-wheels/public/simple/\n",
            "Collecting Levenshtein\n",
            "  Downloading Levenshtein-0.18.1-cp37-cp37m-manylinux_2_17_x86_64.manylinux2014_x86_64.whl (258 kB)\n",
            "\u001b[K     |████████████████████████████████| 258 kB 14.4 MB/s \n",
            "\u001b[?25hCollecting rapidfuzz<3.0.0,>=2.0.1\n",
            "  Downloading rapidfuzz-2.0.11-cp37-cp37m-manylinux_2_17_x86_64.manylinux2014_x86_64.whl (1.8 MB)\n",
            "\u001b[K     |████████████████████████████████| 1.8 MB 68.0 MB/s \n",
            "\u001b[?25hCollecting jarowinkler<1.1.0,>=1.0.2\n",
            "  Downloading jarowinkler-1.0.2-cp37-cp37m-manylinux_2_17_x86_64.manylinux2014_x86_64.whl (103 kB)\n",
            "\u001b[K     |████████████████████████████████| 103 kB 54.4 MB/s \n",
            "\u001b[?25hInstalling collected packages: jarowinkler, rapidfuzz, Levenshtein\n",
            "Successfully installed Levenshtein-0.18.1 jarowinkler-1.0.2 rapidfuzz-2.0.11\n"
          ]
        }
      ],
      "source": [
        "# !pip install Levenshtein\n",
        "import Levenshtein\n",
        "import json\n",
        "import nltk\n",
        "import pandas as pd\n",
        "import re "
      ]
    },
    {
      "cell_type": "code",
      "execution_count": null,
      "metadata": {
        "colab": {
          "base_uri": "https://localhost:8080/"
        },
        "id": "tw9Lwa9eJ6fv",
        "outputId": "c5ee226c-e373-4df3-adfc-a7f008531ce3"
      },
      "outputs": [
        {
          "output_type": "stream",
          "name": "stdout",
          "text": [
            "/usr/local/lib/python3.7/dist-packages/gdown/cli.py:131: FutureWarning: Option `--id` was deprecated in version 4.3.1 and will be removed in 5.0. You don't need to pass it anymore to use a file ID.\n",
            "  category=FutureWarning,\n",
            "Downloading...\n",
            "From: https://drive.google.com/uc?id=1KOrKTVqhDZvDgheBdG5ijn8RFqaTGMnp\n",
            "To: /content/WIESP2022-NER-TRAINING.jsonl\n",
            "100% 9.95M/9.95M [00:00<00:00, 186MB/s]\n",
            "/usr/local/lib/python3.7/dist-packages/gdown/cli.py:131: FutureWarning: Option `--id` was deprecated in version 4.3.1 and will be removed in 5.0. You don't need to pass it anymore to use a file ID.\n",
            "  category=FutureWarning,\n",
            "Downloading...\n",
            "From: https://drive.google.com/uc?id=1_TX7l9miXEe_r30YioSwPLndk0rgiWkt\n",
            "To: /content/WIESP2022-NER-DEV-sample-predictions.jsonl\n",
            "100% 177k/177k [00:00<00:00, 39.7MB/s]\n",
            "/usr/local/lib/python3.7/dist-packages/gdown/cli.py:131: FutureWarning: Option `--id` was deprecated in version 4.3.1 and will be removed in 5.0. You don't need to pass it anymore to use a file ID.\n",
            "  category=FutureWarning,\n",
            "Downloading...\n",
            "From: https://drive.google.com/uc?id=1jo4l_DfhSsUXH3KSvctQ3DwLywTAxczZ\n",
            "To: /content/WIESP2022-NER-DEV.jsonl\n",
            "100% 131k/131k [00:00<00:00, 50.9MB/s]\n"
          ]
        }
      ],
      "source": [
        "!gdown --id 1KOrKTVqhDZvDgheBdG5ijn8RFqaTGMnp #training\n",
        "!gdown --id 1_TX7l9miXEe_r30YioSwPLndk0rgiWkt #sample dev predictions\n",
        "!gdown --id 1jo4l_DfhSsUXH3KSvctQ3DwLywTAxczZ #dev"
      ]
    },
    {
      "cell_type": "code",
      "execution_count": null,
      "metadata": {
        "id": "AKMrOlzDTogS"
      },
      "outputs": [],
      "source": [
        "with open(\"WIESP2022-NER-TRAINING.jsonl\", 'r') as f:\n",
        "  wiesp_train_json = [json.loads(l) for l in list(f)]"
      ]
    },
    {
      "cell_type": "code",
      "execution_count": null,
      "metadata": {
        "colab": {
          "base_uri": "https://localhost:8080/",
          "height": 327
        },
        "id": "Sl4iamXsWUf5",
        "outputId": "4237b3e6-3b5d-4135-c41a-628a3ee2a99f"
      },
      "outputs": [
        {
          "output_type": "execute_result",
          "data": {
            "text/plain": [
              "               bibcode  label_studio_id  \\\n",
              "0  2019MNRAS.486.5558S              487   \n",
              "1  2018MNRAS.478.5533F             1129   \n",
              "2  2018MNRAS.480.3062L             1086   \n",
              "3  2016MNRAS.457.1786M             1135   \n",
              "4  2019MNRAS.482L...9B              559   \n",
              "\n",
              "                                             ner_ids  \\\n",
              "0  [62, 62, 62, 62, 62, 62, 62, 15, 62, 62, 62, 6...   \n",
              "1  [62, 62, 62, 62, 62, 62, 62, 62, 62, 62, 62, 6...   \n",
              "2  [62, 62, 62, 62, 62, 62, 62, 62, 62, 62, 62, 6...   \n",
              "3  [22, 62, 62, 62, 62, 21, 13, 44, 44, 21, 62, 1...   \n",
              "4  [62, 62, 62, 22, 53, 22, 53, 22, 53, 22, 53, 2...   \n",
              "\n",
              "                                            ner_tags          section  \\\n",
              "0  [O, O, O, O, O, O, O, B-Instrument, O, O, O, O...         fulltext   \n",
              "1  [O, O, O, O, O, O, O, O, O, O, O, O, O, O, O, ...         fulltext   \n",
              "2  [O, O, O, O, O, O, O, O, O, O, O, O, O, O, O, ...  acknowledgments   \n",
              "3  [B-Person, O, O, O, O, B-Organization, B-Grant...  acknowledgments   \n",
              "4  [O, O, O, B-Person, I-Person, B-Person, I-Pers...  acknowledgments   \n",
              "\n",
              "                                              tokens  \\\n",
              "0  [Whilst, a, reasonable, harmonic, fit, to, the...   \n",
              "1  [comparison, once, the, angular, positions, of...   \n",
              "2  [ACKNOWLEDGEMENTS, The, authors, thank, an, an...   \n",
              "3  [BDM, gratefully, acknowledges, support, from,...   \n",
              "4  [ACKNOWLEDGEMENTS, We, thank, Dougal, Mackey,,...   \n",
              "\n",
              "                                  unique_id  \n",
              "0          fulltext_487_2019MNRAS.486.5558S  \n",
              "1         fulltext_1129_2018MNRAS.478.5533F  \n",
              "2  acknowledgments_1086_2018MNRAS.480.3062L  \n",
              "3  acknowledgments_1135_2016MNRAS.457.1786M  \n",
              "4   acknowledgments_559_2019MNRAS.482L...9B  "
            ],
            "text/html": [
              "\n",
              "  <div id=\"df-74cec4f2-71b6-423a-b4f3-ba2befafa0b4\">\n",
              "    <div class=\"colab-df-container\">\n",
              "      <div>\n",
              "<style scoped>\n",
              "    .dataframe tbody tr th:only-of-type {\n",
              "        vertical-align: middle;\n",
              "    }\n",
              "\n",
              "    .dataframe tbody tr th {\n",
              "        vertical-align: top;\n",
              "    }\n",
              "\n",
              "    .dataframe thead th {\n",
              "        text-align: right;\n",
              "    }\n",
              "</style>\n",
              "<table border=\"1\" class=\"dataframe\">\n",
              "  <thead>\n",
              "    <tr style=\"text-align: right;\">\n",
              "      <th></th>\n",
              "      <th>bibcode</th>\n",
              "      <th>label_studio_id</th>\n",
              "      <th>ner_ids</th>\n",
              "      <th>ner_tags</th>\n",
              "      <th>section</th>\n",
              "      <th>tokens</th>\n",
              "      <th>unique_id</th>\n",
              "    </tr>\n",
              "  </thead>\n",
              "  <tbody>\n",
              "    <tr>\n",
              "      <th>0</th>\n",
              "      <td>2019MNRAS.486.5558S</td>\n",
              "      <td>487</td>\n",
              "      <td>[62, 62, 62, 62, 62, 62, 62, 15, 62, 62, 62, 6...</td>\n",
              "      <td>[O, O, O, O, O, O, O, B-Instrument, O, O, O, O...</td>\n",
              "      <td>fulltext</td>\n",
              "      <td>[Whilst, a, reasonable, harmonic, fit, to, the...</td>\n",
              "      <td>fulltext_487_2019MNRAS.486.5558S</td>\n",
              "    </tr>\n",
              "    <tr>\n",
              "      <th>1</th>\n",
              "      <td>2018MNRAS.478.5533F</td>\n",
              "      <td>1129</td>\n",
              "      <td>[62, 62, 62, 62, 62, 62, 62, 62, 62, 62, 62, 6...</td>\n",
              "      <td>[O, O, O, O, O, O, O, O, O, O, O, O, O, O, O, ...</td>\n",
              "      <td>fulltext</td>\n",
              "      <td>[comparison, once, the, angular, positions, of...</td>\n",
              "      <td>fulltext_1129_2018MNRAS.478.5533F</td>\n",
              "    </tr>\n",
              "    <tr>\n",
              "      <th>2</th>\n",
              "      <td>2018MNRAS.480.3062L</td>\n",
              "      <td>1086</td>\n",
              "      <td>[62, 62, 62, 62, 62, 62, 62, 62, 62, 62, 62, 6...</td>\n",
              "      <td>[O, O, O, O, O, O, O, O, O, O, O, O, O, O, O, ...</td>\n",
              "      <td>acknowledgments</td>\n",
              "      <td>[ACKNOWLEDGEMENTS, The, authors, thank, an, an...</td>\n",
              "      <td>acknowledgments_1086_2018MNRAS.480.3062L</td>\n",
              "    </tr>\n",
              "    <tr>\n",
              "      <th>3</th>\n",
              "      <td>2016MNRAS.457.1786M</td>\n",
              "      <td>1135</td>\n",
              "      <td>[22, 62, 62, 62, 62, 21, 13, 44, 44, 21, 62, 1...</td>\n",
              "      <td>[B-Person, O, O, O, O, B-Organization, B-Grant...</td>\n",
              "      <td>acknowledgments</td>\n",
              "      <td>[BDM, gratefully, acknowledges, support, from,...</td>\n",
              "      <td>acknowledgments_1135_2016MNRAS.457.1786M</td>\n",
              "    </tr>\n",
              "    <tr>\n",
              "      <th>4</th>\n",
              "      <td>2019MNRAS.482L...9B</td>\n",
              "      <td>559</td>\n",
              "      <td>[62, 62, 62, 22, 53, 22, 53, 22, 53, 22, 53, 2...</td>\n",
              "      <td>[O, O, O, B-Person, I-Person, B-Person, I-Pers...</td>\n",
              "      <td>acknowledgments</td>\n",
              "      <td>[ACKNOWLEDGEMENTS, We, thank, Dougal, Mackey,,...</td>\n",
              "      <td>acknowledgments_559_2019MNRAS.482L...9B</td>\n",
              "    </tr>\n",
              "  </tbody>\n",
              "</table>\n",
              "</div>\n",
              "      <button class=\"colab-df-convert\" onclick=\"convertToInteractive('df-74cec4f2-71b6-423a-b4f3-ba2befafa0b4')\"\n",
              "              title=\"Convert this dataframe to an interactive table.\"\n",
              "              style=\"display:none;\">\n",
              "        \n",
              "  <svg xmlns=\"http://www.w3.org/2000/svg\" height=\"24px\"viewBox=\"0 0 24 24\"\n",
              "       width=\"24px\">\n",
              "    <path d=\"M0 0h24v24H0V0z\" fill=\"none\"/>\n",
              "    <path d=\"M18.56 5.44l.94 2.06.94-2.06 2.06-.94-2.06-.94-.94-2.06-.94 2.06-2.06.94zm-11 1L8.5 8.5l.94-2.06 2.06-.94-2.06-.94L8.5 2.5l-.94 2.06-2.06.94zm10 10l.94 2.06.94-2.06 2.06-.94-2.06-.94-.94-2.06-.94 2.06-2.06.94z\"/><path d=\"M17.41 7.96l-1.37-1.37c-.4-.4-.92-.59-1.43-.59-.52 0-1.04.2-1.43.59L10.3 9.45l-7.72 7.72c-.78.78-.78 2.05 0 2.83L4 21.41c.39.39.9.59 1.41.59.51 0 1.02-.2 1.41-.59l7.78-7.78 2.81-2.81c.8-.78.8-2.07 0-2.86zM5.41 20L4 18.59l7.72-7.72 1.47 1.35L5.41 20z\"/>\n",
              "  </svg>\n",
              "      </button>\n",
              "      \n",
              "  <style>\n",
              "    .colab-df-container {\n",
              "      display:flex;\n",
              "      flex-wrap:wrap;\n",
              "      gap: 12px;\n",
              "    }\n",
              "\n",
              "    .colab-df-convert {\n",
              "      background-color: #E8F0FE;\n",
              "      border: none;\n",
              "      border-radius: 50%;\n",
              "      cursor: pointer;\n",
              "      display: none;\n",
              "      fill: #1967D2;\n",
              "      height: 32px;\n",
              "      padding: 0 0 0 0;\n",
              "      width: 32px;\n",
              "    }\n",
              "\n",
              "    .colab-df-convert:hover {\n",
              "      background-color: #E2EBFA;\n",
              "      box-shadow: 0px 1px 2px rgba(60, 64, 67, 0.3), 0px 1px 3px 1px rgba(60, 64, 67, 0.15);\n",
              "      fill: #174EA6;\n",
              "    }\n",
              "\n",
              "    [theme=dark] .colab-df-convert {\n",
              "      background-color: #3B4455;\n",
              "      fill: #D2E3FC;\n",
              "    }\n",
              "\n",
              "    [theme=dark] .colab-df-convert:hover {\n",
              "      background-color: #434B5C;\n",
              "      box-shadow: 0px 1px 3px 1px rgba(0, 0, 0, 0.15);\n",
              "      filter: drop-shadow(0px 1px 2px rgba(0, 0, 0, 0.3));\n",
              "      fill: #FFFFFF;\n",
              "    }\n",
              "  </style>\n",
              "\n",
              "      <script>\n",
              "        const buttonEl =\n",
              "          document.querySelector('#df-74cec4f2-71b6-423a-b4f3-ba2befafa0b4 button.colab-df-convert');\n",
              "        buttonEl.style.display =\n",
              "          google.colab.kernel.accessAllowed ? 'block' : 'none';\n",
              "\n",
              "        async function convertToInteractive(key) {\n",
              "          const element = document.querySelector('#df-74cec4f2-71b6-423a-b4f3-ba2befafa0b4');\n",
              "          const dataTable =\n",
              "            await google.colab.kernel.invokeFunction('convertToInteractive',\n",
              "                                                     [key], {});\n",
              "          if (!dataTable) return;\n",
              "\n",
              "          const docLinkHtml = 'Like what you see? Visit the ' +\n",
              "            '<a target=\"_blank\" href=https://colab.research.google.com/notebooks/data_table.ipynb>data table notebook</a>'\n",
              "            + ' to learn more about interactive tables.';\n",
              "          element.innerHTML = '';\n",
              "          dataTable['output_type'] = 'display_data';\n",
              "          await google.colab.output.renderOutput(dataTable, element);\n",
              "          const docLink = document.createElement('div');\n",
              "          docLink.innerHTML = docLinkHtml;\n",
              "          element.appendChild(docLink);\n",
              "        }\n",
              "      </script>\n",
              "    </div>\n",
              "  </div>\n",
              "  "
            ]
          },
          "metadata": {},
          "execution_count": 4
        }
      ],
      "source": [
        "df_to_preproc = pd.DataFrame(wiesp_train_json)\n",
        "df_to_preproc.head()"
      ]
    },
    {
      "cell_type": "code",
      "source": [
        "df_to_preproc.bibcode.nunique()"
      ],
      "metadata": {
        "colab": {
          "base_uri": "https://localhost:8080/"
        },
        "id": "vu97CJpuxPII",
        "outputId": "a47bede3-2133-4405-cac6-98e59af50db2"
      },
      "execution_count": null,
      "outputs": [
        {
          "output_type": "execute_result",
          "data": {
            "text/plain": [
              "1723"
            ]
          },
          "metadata": {},
          "execution_count": 5
        }
      ]
    },
    {
      "cell_type": "code",
      "source": [
        "temp_df = df_to_preproc.loc[:5]"
      ],
      "metadata": {
        "id": "YBgZNDpixqig"
      },
      "execution_count": null,
      "outputs": []
    },
    {
      "cell_type": "code",
      "source": [
        "nltk.download('stopwords')\n",
        "from nltk.corpus import stopwords\n",
        "from nltk.stem import PorterStemmer"
      ],
      "metadata": {
        "colab": {
          "base_uri": "https://localhost:8080/"
        },
        "id": "G-L3NEW675Ue",
        "outputId": "e6ae5f24-a285-4cdf-a7fe-14c10f5ff619"
      },
      "execution_count": null,
      "outputs": [
        {
          "output_type": "stream",
          "name": "stderr",
          "text": [
            "[nltk_data] Downloading package stopwords to /root/nltk_data...\n",
            "[nltk_data]   Unzipping corpora/stopwords.zip.\n"
          ]
        }
      ]
    },
    {
      "cell_type": "code",
      "source": [
        ""
      ],
      "metadata": {
        "id": "VpTqSXq08MoI"
      },
      "execution_count": null,
      "outputs": []
    },
    {
      "cell_type": "code",
      "source": [
        "def preproc(token_list):\n",
        "\n",
        "  better_token_list = []\n",
        "  stopwords_eng = stopwords.words('english')\n",
        "  stemmer = PorterStemmer()\n",
        "\n",
        "\n",
        "  for word in token_list:\n",
        "    \n",
        "    word = re.sub(r'[&]', \"and\", re.sub(r'[!@#`~_{}.,;()\\[\\]?]',\"\",word)).lower()\n",
        "    # if word not in stopwords_eng:\n",
        "    #   better_token_list.append(stemmer.stem(word))\n",
        "    # else:\n",
        "    #   better_token_list.append(\"<stopword>\")\n",
        "    better_token_list.append(stemmer.stem(word))\n",
        "  \n",
        "  return(better_token_list)"
      ],
      "metadata": {
        "id": "yy6gWl9ayOdO"
      },
      "execution_count": null,
      "outputs": []
    },
    {
      "cell_type": "code",
      "source": [
        "preproc([\"Token_list\", \"12gdh@67##dd_##[]0.a\", \"&\", 'happening'])"
      ],
      "metadata": {
        "colab": {
          "base_uri": "https://localhost:8080/"
        },
        "id": "FIvYOpym01pJ",
        "outputId": "3af7ade5-9c6c-4545-bb9a-706fa327e002"
      },
      "execution_count": null,
      "outputs": [
        {
          "output_type": "execute_result",
          "data": {
            "text/plain": [
              "['tokenlist', '12gdh67dd0a', 'and', 'happen']"
            ]
          },
          "metadata": {},
          "execution_count": 9
        }
      ]
    },
    {
      "cell_type": "code",
      "source": [
        "df_to_preproc['tokens'] = df_to_preproc['tokens'].apply(preproc)"
      ],
      "metadata": {
        "id": "IQhb4_Lf1AAd"
      },
      "execution_count": null,
      "outputs": []
    },
    {
      "cell_type": "code",
      "source": [
        "def sugg_preproc(token_list):\n",
        "\n",
        "  better_token_list = []\n",
        "  stopwords_eng = stopwords.words('english')\n",
        "  stemmer = PorterStemmer()\n",
        "\n",
        "\n",
        "  for word in token_list:\n",
        "    \n",
        "    word = re.sub(r'[&]', \"and\", re.sub(r'[!@#`~_{}.,;()\\[\\]?]',\"\",word)).lower()\n",
        "    # if word not in stopwords_eng:\n",
        "    #   better_token_list.append(stemmer.stem(word))\n",
        "    # else:\n",
        "    #   better_token_list.append(\"<stopword>\")\n",
        "    better_token_list.append(word)\n",
        "  \n",
        "  return(better_token_list)"
      ],
      "metadata": {
        "id": "dDmB8sDyo4L0"
      },
      "execution_count": null,
      "outputs": []
    },
    {
      "cell_type": "code",
      "source": [
        "for_sugg = pd.DataFrame(wiesp_train_json)['tokens'].apply(sugg_preproc)"
      ],
      "metadata": {
        "id": "hDmqaWtko1Tx"
      },
      "execution_count": null,
      "outputs": []
    },
    {
      "cell_type": "code",
      "source": [
        "df_to_preproc.head()"
      ],
      "metadata": {
        "colab": {
          "base_uri": "https://localhost:8080/",
          "height": 327
        },
        "id": "gHNBXc984D4F",
        "outputId": "016665b4-f1bc-4e8e-9bd2-9ee8f7208759"
      },
      "execution_count": null,
      "outputs": [
        {
          "output_type": "execute_result",
          "data": {
            "text/plain": [
              "               bibcode  label_studio_id  \\\n",
              "0  2019MNRAS.486.5558S              487   \n",
              "1  2018MNRAS.478.5533F             1129   \n",
              "2  2018MNRAS.480.3062L             1086   \n",
              "3  2016MNRAS.457.1786M             1135   \n",
              "4  2019MNRAS.482L...9B              559   \n",
              "\n",
              "                                             ner_ids  \\\n",
              "0  [62, 62, 62, 62, 62, 62, 62, 15, 62, 62, 62, 6...   \n",
              "1  [62, 62, 62, 62, 62, 62, 62, 62, 62, 62, 62, 6...   \n",
              "2  [62, 62, 62, 62, 62, 62, 62, 62, 62, 62, 62, 6...   \n",
              "3  [22, 62, 62, 62, 62, 21, 13, 44, 44, 21, 62, 1...   \n",
              "4  [62, 62, 62, 22, 53, 22, 53, 22, 53, 22, 53, 2...   \n",
              "\n",
              "                                            ner_tags          section  \\\n",
              "0  [O, O, O, O, O, O, O, B-Instrument, O, O, O, O...         fulltext   \n",
              "1  [O, O, O, O, O, O, O, O, O, O, O, O, O, O, O, ...         fulltext   \n",
              "2  [O, O, O, O, O, O, O, O, O, O, O, O, O, O, O, ...  acknowledgments   \n",
              "3  [B-Person, O, O, O, O, B-Organization, B-Grant...  acknowledgments   \n",
              "4  [O, O, O, B-Person, I-Person, B-Person, I-Pers...  acknowledgments   \n",
              "\n",
              "                                              tokens  \\\n",
              "0  [whilst, a, reason, harmon, fit, to, the, espa...   \n",
              "1  [comparison, onc, the, angular, posit, of, the...   \n",
              "2  [acknowledg, the, author, thank, an, anonym, r...   \n",
              "3  [bdm, grate, acknowledg, support, from, nasa, ...   \n",
              "4  [acknowledg, we, thank, dougal, mackey, adrian...   \n",
              "\n",
              "                                  unique_id  \n",
              "0          fulltext_487_2019MNRAS.486.5558S  \n",
              "1         fulltext_1129_2018MNRAS.478.5533F  \n",
              "2  acknowledgments_1086_2018MNRAS.480.3062L  \n",
              "3  acknowledgments_1135_2016MNRAS.457.1786M  \n",
              "4   acknowledgments_559_2019MNRAS.482L...9B  "
            ],
            "text/html": [
              "\n",
              "  <div id=\"df-03edb137-5fb8-4c1e-a6f3-ea8c0ad3177c\">\n",
              "    <div class=\"colab-df-container\">\n",
              "      <div>\n",
              "<style scoped>\n",
              "    .dataframe tbody tr th:only-of-type {\n",
              "        vertical-align: middle;\n",
              "    }\n",
              "\n",
              "    .dataframe tbody tr th {\n",
              "        vertical-align: top;\n",
              "    }\n",
              "\n",
              "    .dataframe thead th {\n",
              "        text-align: right;\n",
              "    }\n",
              "</style>\n",
              "<table border=\"1\" class=\"dataframe\">\n",
              "  <thead>\n",
              "    <tr style=\"text-align: right;\">\n",
              "      <th></th>\n",
              "      <th>bibcode</th>\n",
              "      <th>label_studio_id</th>\n",
              "      <th>ner_ids</th>\n",
              "      <th>ner_tags</th>\n",
              "      <th>section</th>\n",
              "      <th>tokens</th>\n",
              "      <th>unique_id</th>\n",
              "    </tr>\n",
              "  </thead>\n",
              "  <tbody>\n",
              "    <tr>\n",
              "      <th>0</th>\n",
              "      <td>2019MNRAS.486.5558S</td>\n",
              "      <td>487</td>\n",
              "      <td>[62, 62, 62, 62, 62, 62, 62, 15, 62, 62, 62, 6...</td>\n",
              "      <td>[O, O, O, O, O, O, O, B-Instrument, O, O, O, O...</td>\n",
              "      <td>fulltext</td>\n",
              "      <td>[whilst, a, reason, harmon, fit, to, the, espa...</td>\n",
              "      <td>fulltext_487_2019MNRAS.486.5558S</td>\n",
              "    </tr>\n",
              "    <tr>\n",
              "      <th>1</th>\n",
              "      <td>2018MNRAS.478.5533F</td>\n",
              "      <td>1129</td>\n",
              "      <td>[62, 62, 62, 62, 62, 62, 62, 62, 62, 62, 62, 6...</td>\n",
              "      <td>[O, O, O, O, O, O, O, O, O, O, O, O, O, O, O, ...</td>\n",
              "      <td>fulltext</td>\n",
              "      <td>[comparison, onc, the, angular, posit, of, the...</td>\n",
              "      <td>fulltext_1129_2018MNRAS.478.5533F</td>\n",
              "    </tr>\n",
              "    <tr>\n",
              "      <th>2</th>\n",
              "      <td>2018MNRAS.480.3062L</td>\n",
              "      <td>1086</td>\n",
              "      <td>[62, 62, 62, 62, 62, 62, 62, 62, 62, 62, 62, 6...</td>\n",
              "      <td>[O, O, O, O, O, O, O, O, O, O, O, O, O, O, O, ...</td>\n",
              "      <td>acknowledgments</td>\n",
              "      <td>[acknowledg, the, author, thank, an, anonym, r...</td>\n",
              "      <td>acknowledgments_1086_2018MNRAS.480.3062L</td>\n",
              "    </tr>\n",
              "    <tr>\n",
              "      <th>3</th>\n",
              "      <td>2016MNRAS.457.1786M</td>\n",
              "      <td>1135</td>\n",
              "      <td>[22, 62, 62, 62, 62, 21, 13, 44, 44, 21, 62, 1...</td>\n",
              "      <td>[B-Person, O, O, O, O, B-Organization, B-Grant...</td>\n",
              "      <td>acknowledgments</td>\n",
              "      <td>[bdm, grate, acknowledg, support, from, nasa, ...</td>\n",
              "      <td>acknowledgments_1135_2016MNRAS.457.1786M</td>\n",
              "    </tr>\n",
              "    <tr>\n",
              "      <th>4</th>\n",
              "      <td>2019MNRAS.482L...9B</td>\n",
              "      <td>559</td>\n",
              "      <td>[62, 62, 62, 22, 53, 22, 53, 22, 53, 22, 53, 2...</td>\n",
              "      <td>[O, O, O, B-Person, I-Person, B-Person, I-Pers...</td>\n",
              "      <td>acknowledgments</td>\n",
              "      <td>[acknowledg, we, thank, dougal, mackey, adrian...</td>\n",
              "      <td>acknowledgments_559_2019MNRAS.482L...9B</td>\n",
              "    </tr>\n",
              "  </tbody>\n",
              "</table>\n",
              "</div>\n",
              "      <button class=\"colab-df-convert\" onclick=\"convertToInteractive('df-03edb137-5fb8-4c1e-a6f3-ea8c0ad3177c')\"\n",
              "              title=\"Convert this dataframe to an interactive table.\"\n",
              "              style=\"display:none;\">\n",
              "        \n",
              "  <svg xmlns=\"http://www.w3.org/2000/svg\" height=\"24px\"viewBox=\"0 0 24 24\"\n",
              "       width=\"24px\">\n",
              "    <path d=\"M0 0h24v24H0V0z\" fill=\"none\"/>\n",
              "    <path d=\"M18.56 5.44l.94 2.06.94-2.06 2.06-.94-2.06-.94-.94-2.06-.94 2.06-2.06.94zm-11 1L8.5 8.5l.94-2.06 2.06-.94-2.06-.94L8.5 2.5l-.94 2.06-2.06.94zm10 10l.94 2.06.94-2.06 2.06-.94-2.06-.94-.94-2.06-.94 2.06-2.06.94z\"/><path d=\"M17.41 7.96l-1.37-1.37c-.4-.4-.92-.59-1.43-.59-.52 0-1.04.2-1.43.59L10.3 9.45l-7.72 7.72c-.78.78-.78 2.05 0 2.83L4 21.41c.39.39.9.59 1.41.59.51 0 1.02-.2 1.41-.59l7.78-7.78 2.81-2.81c.8-.78.8-2.07 0-2.86zM5.41 20L4 18.59l7.72-7.72 1.47 1.35L5.41 20z\"/>\n",
              "  </svg>\n",
              "      </button>\n",
              "      \n",
              "  <style>\n",
              "    .colab-df-container {\n",
              "      display:flex;\n",
              "      flex-wrap:wrap;\n",
              "      gap: 12px;\n",
              "    }\n",
              "\n",
              "    .colab-df-convert {\n",
              "      background-color: #E8F0FE;\n",
              "      border: none;\n",
              "      border-radius: 50%;\n",
              "      cursor: pointer;\n",
              "      display: none;\n",
              "      fill: #1967D2;\n",
              "      height: 32px;\n",
              "      padding: 0 0 0 0;\n",
              "      width: 32px;\n",
              "    }\n",
              "\n",
              "    .colab-df-convert:hover {\n",
              "      background-color: #E2EBFA;\n",
              "      box-shadow: 0px 1px 2px rgba(60, 64, 67, 0.3), 0px 1px 3px 1px rgba(60, 64, 67, 0.15);\n",
              "      fill: #174EA6;\n",
              "    }\n",
              "\n",
              "    [theme=dark] .colab-df-convert {\n",
              "      background-color: #3B4455;\n",
              "      fill: #D2E3FC;\n",
              "    }\n",
              "\n",
              "    [theme=dark] .colab-df-convert:hover {\n",
              "      background-color: #434B5C;\n",
              "      box-shadow: 0px 1px 3px 1px rgba(0, 0, 0, 0.15);\n",
              "      filter: drop-shadow(0px 1px 2px rgba(0, 0, 0, 0.3));\n",
              "      fill: #FFFFFF;\n",
              "    }\n",
              "  </style>\n",
              "\n",
              "      <script>\n",
              "        const buttonEl =\n",
              "          document.querySelector('#df-03edb137-5fb8-4c1e-a6f3-ea8c0ad3177c button.colab-df-convert');\n",
              "        buttonEl.style.display =\n",
              "          google.colab.kernel.accessAllowed ? 'block' : 'none';\n",
              "\n",
              "        async function convertToInteractive(key) {\n",
              "          const element = document.querySelector('#df-03edb137-5fb8-4c1e-a6f3-ea8c0ad3177c');\n",
              "          const dataTable =\n",
              "            await google.colab.kernel.invokeFunction('convertToInteractive',\n",
              "                                                     [key], {});\n",
              "          if (!dataTable) return;\n",
              "\n",
              "          const docLinkHtml = 'Like what you see? Visit the ' +\n",
              "            '<a target=\"_blank\" href=https://colab.research.google.com/notebooks/data_table.ipynb>data table notebook</a>'\n",
              "            + ' to learn more about interactive tables.';\n",
              "          element.innerHTML = '';\n",
              "          dataTable['output_type'] = 'display_data';\n",
              "          await google.colab.output.renderOutput(dataTable, element);\n",
              "          const docLink = document.createElement('div');\n",
              "          docLink.innerHTML = docLinkHtml;\n",
              "          element.appendChild(docLink);\n",
              "        }\n",
              "      </script>\n",
              "    </div>\n",
              "  </div>\n",
              "  "
            ]
          },
          "metadata": {},
          "execution_count": 13
        }
      ]
    },
    {
      "cell_type": "code",
      "source": [
        "from collections import Counter\n",
        "def vocab_builder(col=df_to_preproc.tokens):\n",
        "  word_list=[]\n",
        "  for lst in col:\n",
        "    word_list+=lst\n",
        "  \n",
        "  return Counter(word_list)\n",
        "\n",
        "# vocab_builder()  "
      ],
      "metadata": {
        "id": "kHHpr9OF9UD0"
      },
      "execution_count": null,
      "outputs": []
    },
    {
      "cell_type": "code",
      "source": [
        "test = vocab_builder(for_sugg)\n",
        "# test"
      ],
      "metadata": {
        "id": "la4AHgmtoyI3"
      },
      "execution_count": null,
      "outputs": []
    },
    {
      "cell_type": "code",
      "source": [
        "vocab_count_dict = vocab_builder()\n",
        "total_word_counts = sum(vocab_count_dict.values())"
      ],
      "metadata": {
        "id": "pYN1VRpsDIJg"
      },
      "execution_count": null,
      "outputs": []
    },
    {
      "cell_type": "code",
      "source": [
        "vocab_proba = {k:v/total_word_counts for k,v in vocab_count_dict.items()}"
      ],
      "metadata": {
        "id": "--947g3XDI7W"
      },
      "execution_count": null,
      "outputs": []
    },
    {
      "cell_type": "code",
      "source": [
        "# vocab_proba"
      ],
      "metadata": {
        "id": "G2trW1j-DI_0"
      },
      "execution_count": null,
      "outputs": []
    },
    {
      "cell_type": "code",
      "source": [
        "word = \"nuetrul\"\n",
        "\n",
        "\n",
        "char_list = ['a','b','c','d','e','f','g','h','i','j','k','l','m','n','o','p','q','r','s','t','u','v','w','x','y','z',\n",
        "                 '1','2','3','4','5','6','7','8','9','0','-','%','$','^',':','/','*']\n",
        "\n",
        "p_splits = [(word[:i], word[i:]) for i in range(len(word) + 1)]\n",
        "r_spilts = [(word[:i-1],word[i-1:i], word[i:]) for i in range(1,len(word)+1,1)]\n",
        "sw_splits = [(word[:i-2],word[i-2:i], word[i:]) for i in range(2,len(word)+1,1)]"
      ],
      "metadata": {
        "id": "fDVOYwKcFiMz"
      },
      "execution_count": null,
      "outputs": []
    },
    {
      "cell_type": "code",
      "source": [
        "d_combos = [L + R[1:] for L, R in p_splits if R]\n",
        "i_combos = [L+alpha+R[1:] for L, R in p_splits for alpha in char_list]\n",
        "r_combos = [L+alpha+R for L, _, R in sw_splits for alpha in char_list]\n",
        "sw_combos = [L+M[::-1]+R for L, M, R in sw_splits]\n"
      ],
      "metadata": {
        "id": "hfx4xL6xFyFs"
      },
      "execution_count": null,
      "outputs": []
    },
    {
      "cell_type": "code",
      "source": [
        "def one_edit(word:str, top5=True):\n",
        "  char_list = ['a','b','c','d','e','f','g','h','i','j','k','l','m','n','o','p','q','r','s','t','u','v','w','x','y','z',\n",
        "                 '1','2','3','4','5','6','7','8','9','0','-','%','$','^',':','/','*']\n",
        "\n",
        "  \n",
        "  p_splits = [(word[:i], word[i:]) for i in range(len(word) + 1)]\n",
        "  r_spilts = [(word[:i-1],word[i-1:i], word[i:]) for i in range(1,len(word)+1,1)]\n",
        "  sw_splits = [(word[:i-2],word[i-2:i], word[i:]) for i in range(2,len(word)+1,1)]\n",
        "\n",
        "  d_combos = [L + R[1:] for L, R in p_splits if R]\n",
        "  i_combos = [L+alpha+R[1:] for L, R in p_splits for alpha in char_list]\n",
        "  r_combos = [L+alpha+R for L, _, R in sw_splits for alpha in char_list]\n",
        "  sw_combos = [L+M[::-1]+R for L, M, R in sw_splits]\n",
        "\n",
        "  final_combos = [word for word in set(d_combos+i_combos+r_combos+sw_combos) if word in test.keys()]\n",
        "  if top5:\n",
        "    return(final_combos[:5])\n",
        "  else:\n",
        "    return(final_combos)\n",
        "# i_combos"
      ],
      "metadata": {
        "id": "vKwukfAcHUt5"
      },
      "execution_count": null,
      "outputs": []
    },
    {
      "cell_type": "code",
      "source": [
        ""
      ],
      "metadata": {
        "id": "0YWW21e6SktF"
      },
      "execution_count": null,
      "outputs": []
    },
    {
      "cell_type": "code",
      "source": [
        "one_edit('bart')"
      ],
      "metadata": {
        "colab": {
          "base_uri": "https://localhost:8080/"
        },
        "id": "90JFNgejGgca",
        "outputId": "8db30e72-5e96-41a5-fe44-6e5debd6d2f1"
      },
      "execution_count": null,
      "outputs": [
        {
          "output_type": "execute_result",
          "data": {
            "text/plain": [
              "['bae', 'xrt', 'bao', 'bpt', 'part']"
            ]
          },
          "metadata": {},
          "execution_count": 22
        }
      ]
    },
    {
      "cell_type": "code",
      "source": [
        "def two_edit(word:str, top5=True):\n",
        "  char_list = ['a','b','c','d','e','f','g','h','i','j','k','l','m','n','o','p','q','r','s','t','u','v','w','x','y','z',\n",
        "                 '1','2','3','4','5','6','7','8','9','0','-','%','$','^',':','/','*']\n",
        "\n",
        "  \n",
        "  p_splits = [(word[:i], word[i:]) for i in range(len(word) + 1)]\n",
        "  r_spilts = [(word[:i-1],word[i-1:i], word[i:]) for i in range(1,len(word)+1,1)]\n",
        "  sw_splits = [(word[:i-2],word[i-2:i], word[i:]) for i in range(2,len(word)+1,1)]\n",
        "\n",
        "  d_combos = [L + R[1:] for L, R in p_splits if R]\n",
        "  d2_combos = []\n",
        "  for word_ in d_combos:\n",
        "    d2_combos += one_edit(word_, top5=False)\n",
        "\n",
        "  i_combos = [L+alpha+R[1:] for L, R in p_splits for alpha in char_list]\n",
        "  i2_combos = []\n",
        "  for word_ in i_combos:\n",
        "    i2_combos += one_edit(word_, top5=False)\n",
        "\n",
        "  r_combos = [L+alpha+R for L, _, R in sw_splits for alpha in char_list]\n",
        "  r2_combos = []\n",
        "  for word_ in r_combos:\n",
        "    r2_combos += one_edit(word_, top5=False)\n",
        "  \n",
        "\n",
        "  sw_combos = [L+M[::-1]+R for L, M, R in sw_splits]\n",
        "  sw2_combos = []\n",
        "  for word_ in sw_combos:\n",
        "    sw2_combos += one_edit(word_, top5=False)\n",
        "\n",
        "  final_combos = list(set([word for word in set(d2_combos+i2_combos+r2_combos+sw2_combos) if word in test.keys()]))\n",
        "\n",
        "  dist_dict = {}\n",
        "  for word_ in final_combos:\n",
        "    dist_dict[word_] = Levenshtein.distance(word, word_)\n",
        "  res = [k for k, _ in sorted(dist_dict.items(), key=lambda x: x[1]) if _ <3]\n",
        "  \n",
        "  if top5:\n",
        "    return(res[:5])\n",
        "  else:\n",
        "    return(res)"
      ],
      "metadata": {
        "id": "ft_zYq3MSlrs"
      },
      "execution_count": null,
      "outputs": []
    },
    {
      "cell_type": "code",
      "source": [
        "two_edit('bart') , one_edit('bart')"
      ],
      "metadata": {
        "colab": {
          "base_uri": "https://localhost:8080/"
        },
        "id": "JXXU49itLQEj",
        "outputId": "b184afbe-237c-4fbe-86a2-315bd64586fe"
      },
      "execution_count": null,
      "outputs": [
        {
          "output_type": "execute_result",
          "data": {
            "text/plain": [
              "(['bar', 'barth', 'part', 'bat', 'art'], ['bae', 'xrt', 'bao', 'bpt', 'part'])"
            ]
          },
          "metadata": {},
          "execution_count": 24
        }
      ]
    },
    {
      "cell_type": "code",
      "source": [
        "def all_edits(word, top5=True):\n",
        "  \n",
        "  edit1_list=[]\n",
        "  edit2_list=[]\n",
        "  \n",
        "  edit1_list=one_edit(word)\n",
        "  dist_dict = {}\n",
        "  for word_ in edit1_list:\n",
        "    dist_dict[word_] = Levenshtein.distance(word, word_)\n",
        "  edit1_list = [k for k, _ in sorted(dist_dict.items(), key=lambda x: x[1]) if _ <3] \n",
        "\n",
        "  edit2_list=two_edit(word)\n",
        "\n",
        "  res_suggest = list(set(edit1_list+edit2_list))\n",
        "\n",
        "  if top5:\n",
        "    return(res_suggest[:5])\n",
        "  else:\n",
        "    return(res_suggest)"
      ],
      "metadata": {
        "id": "uPyZNLbzOpnW"
      },
      "execution_count": null,
      "outputs": []
    },
    {
      "cell_type": "code",
      "source": [
        "all_edits(\"neutrl\")"
      ],
      "metadata": {
        "id": "lv49WKECP8Vy",
        "colab": {
          "base_uri": "https://localhost:8080/"
        },
        "outputId": "0b13d14b-314d-402e-f887-e914ced2dd00"
      },
      "execution_count": null,
      "outputs": [
        {
          "output_type": "execute_result",
          "data": {
            "text/plain": [
              "['neutral', 'neutron', 'neural']"
            ]
          },
          "metadata": {},
          "execution_count": 36
        }
      ]
    },
    {
      "cell_type": "code",
      "source": [
        "#sentence needs to be stemmed\n",
        "\n",
        "def check_input(sentence:str):\n",
        "  list_for_correction_check = re.findall('\\w+', sentence)\n",
        "  for word in list_for_correction_check:\n",
        "    if word not in vocab_count_dict.keys():\n",
        "      s = all_edits(word)\n",
        "      print(\"(Stemmed Alternatives) Do you mean any of\",s,\" instead of \"+word+\" ?\")\n",
        "      val = input(\"which position was the correct word in?[1-n]\")\n",
        "      if val:\n",
        "          list_for_correction_check[list_for_correction_check.index(word)]=s[int(val)-1]\n",
        "\n",
        "  print(\"The corrected query thus is, \",list_for_correction_check)\n",
        "  return(list_for_correction_check)"
      ],
      "metadata": {
        "id": "Sk-sU2FAbPtb"
      },
      "execution_count": null,
      "outputs": []
    },
    {
      "cell_type": "code",
      "source": [
        "check_input(\"we, thank, dogual, mackeyy, adrian\")"
      ],
      "metadata": {
        "colab": {
          "base_uri": "https://localhost:8080/"
        },
        "id": "iV5zvBxwc63L",
        "outputId": "81b6ff22-9a98-4d6f-f88d-b668912acf61"
      },
      "execution_count": null,
      "outputs": [
        {
          "output_type": "stream",
          "name": "stdout",
          "text": [
            "(Stemmed Alternatives) Do you mean any of ['dagal', 'dougal', 'dual']  instead of dogual ?\n",
            "which position was the correct word in?[1-n]2\n",
            "(Stemmed Alternatives) Do you mean any of ['mackey']  instead of mackeyy ?\n",
            "which position was the correct word in?[1-n]1\n",
            "The corrected query thus is,  ['we', 'thank', 'dougal', 'mackey', 'adrian']\n"
          ]
        },
        {
          "output_type": "execute_result",
          "data": {
            "text/plain": [
              "['we', 'thank', 'dougal', 'mackey', 'adrian']"
            ]
          },
          "metadata": {},
          "execution_count": 38
        }
      ]
    }
  ],
  "metadata": {
    "colab": {
      "name": "super_basic_autocorrect.ipynb",
      "provenance": [],
      "collapsed_sections": []
    },
    "kernelspec": {
      "display_name": "Python 3",
      "name": "python3"
    },
    "language_info": {
      "name": "python"
    }
  },
  "nbformat": 4,
  "nbformat_minor": 0
}